{
  "nbformat": 4,
  "nbformat_minor": 0,
  "metadata": {
    "colab": {
      "provenance": [],
      "authorship_tag": "ABX9TyNXO0cm7b3xm9k4KVuClode",
      "include_colab_link": true
    },
    "kernelspec": {
      "name": "python3",
      "display_name": "Python 3"
    },
    "language_info": {
      "name": "python"
    }
  },
  "cells": [
    {
      "cell_type": "markdown",
      "metadata": {
        "id": "view-in-github",
        "colab_type": "text"
      },
      "source": [
        "<a href=\"https://colab.research.google.com/github/hansa31/GBM-analysis/blob/main/Models.ipynb\" target=\"_parent\"><img src=\"https://colab.research.google.com/assets/colab-badge.svg\" alt=\"Open In Colab\"/></a>"
      ]
    },
    {
      "cell_type": "code",
      "source": [
        "from google.colab import drive\n",
        "drive.mount('/content/drive')"
      ],
      "metadata": {
        "colab": {
          "base_uri": "https://localhost:8080/"
        },
        "id": "2S0bo2mp15MY",
        "outputId": "292653a7-1aa6-4fe8-a619-05e46ad0747b"
      },
      "execution_count": 1,
      "outputs": [
        {
          "output_type": "stream",
          "name": "stdout",
          "text": [
            "Mounted at /content/drive\n"
          ]
        }
      ]
    },
    {
      "cell_type": "code",
      "source": [
        "import pandas as pd\n",
        "import numpy as np"
      ],
      "metadata": {
        "id": "8jJ7rsoL2Pky"
      },
      "execution_count": 2,
      "outputs": []
    },
    {
      "cell_type": "code",
      "source": [
        "\n",
        "from sklearn.model_selection import train_test_split # for splitting the data into train and test samples\n",
        "from sklearn.metrics import classification_report # for model evaluation metrics\n",
        "from sklearn import tree # for decision tree models\n",
        "\n",
        "import plotly.express as px  # for data visualization\n",
        "import plotly.graph_objects as go # for data visualization\n",
        "import graphviz # for plotting decision tree graphs"
      ],
      "metadata": {
        "id": "0iMlJzIc63rH"
      },
      "execution_count": null,
      "outputs": []
    },
    {
      "cell_type": "code",
      "source": [
        "df = pd.read_csv('/content/drive/MyDrive/Colab Notebooks/GBM/PreProcess_data_2_train.csv')\n",
        "df.head()"
      ],
      "metadata": {
        "colab": {
          "base_uri": "https://localhost:8080/",
          "height": 342
        },
        "id": "kUwrfI-V2Rxw",
        "outputId": "b19915bc-d662-4dd2-d5f3-a0bda45c243c"
      },
      "execution_count": 3,
      "outputs": [
        {
          "output_type": "execute_result",
          "data": {
            "text/plain": [
              "   VOLUME_ET  VOLUME_NET  VOLUME_ED  VOLUME_TC  VOLUME_WT  VOLUME_BRAIN  \\\n",
              "0       1662         384      36268       2046      38314       1469432   \n",
              "1       4362        4349      15723       8711      24434       1295721   \n",
              "2      33404       48612      45798      82016     127814       1425843   \n",
              "3      12114        7587      34086      19701      53787       1403429   \n",
              "4      34538        7137      65653      41675     107328       1365237   \n",
              "\n",
              "   VOLUME_ET_OVER_NET  VOLUME_ET_OVER_ED  VOLUME_NET_OVER_ED  \\\n",
              "0            4.328125           0.045826            0.010588   \n",
              "1            1.002989           0.277428            0.276601   \n",
              "2            0.687155           0.729377            1.061444   \n",
              "3            1.596679           0.355395            0.222584   \n",
              "4            4.839288           0.526069            0.108708   \n",
              "\n",
              "   VOLUME_ET_over_TC  ...  TEXTURE_NGTDM_NET_FLAIR_Complexity  \\\n",
              "0            0.81232  ...                           2203.2034   \n",
              "1            0.50075  ...                           1440.4285   \n",
              "2            0.40729  ...                           1147.5177   \n",
              "3            0.61489  ...                           3320.1690   \n",
              "4            0.82875  ...                           1834.1052   \n",
              "\n",
              "   TEXTURE_NGTDM_NET_FLAIR_Strength   TGM_p1        TGM_dw  TGM_Cog_X_1  \\\n",
              "0                           61.3293  8.00000  7.500000e-07     0.178609   \n",
              "1                            3.5999  3.31250  1.000000e-09     0.077619   \n",
              "2                            0.8048  5.78125  1.000000e-09     0.132283   \n",
              "3                            4.7336  3.87500  1.000000e-09     0.100415   \n",
              "4                            2.4532  1.00000  5.730000e-08     0.106184   \n",
              "\n",
              "   TGM_Cog_Y_1  TGM_Cog_Z_1   TGM_T_1        Age  Survival_cat  \n",
              "0     0.096256     0.052741    2.0000  56.208219          HIGH  \n",
              "1     0.122900     0.094336   91.4736  61.526027           MID  \n",
              "2     0.116006     0.096035  272.4290  18.975342          HIGH  \n",
              "3     0.088249     0.096470  128.4680  33.887671           MID  \n",
              "4     0.131952     0.096894  240.7780  54.986301           LOW  \n",
              "\n",
              "[5 rows x 706 columns]"
            ],
            "text/html": [
              "\n",
              "  <div id=\"df-06df6a0c-57ac-4684-8174-920176815a07\" class=\"colab-df-container\">\n",
              "    <div>\n",
              "<style scoped>\n",
              "    .dataframe tbody tr th:only-of-type {\n",
              "        vertical-align: middle;\n",
              "    }\n",
              "\n",
              "    .dataframe tbody tr th {\n",
              "        vertical-align: top;\n",
              "    }\n",
              "\n",
              "    .dataframe thead th {\n",
              "        text-align: right;\n",
              "    }\n",
              "</style>\n",
              "<table border=\"1\" class=\"dataframe\">\n",
              "  <thead>\n",
              "    <tr style=\"text-align: right;\">\n",
              "      <th></th>\n",
              "      <th>VOLUME_ET</th>\n",
              "      <th>VOLUME_NET</th>\n",
              "      <th>VOLUME_ED</th>\n",
              "      <th>VOLUME_TC</th>\n",
              "      <th>VOLUME_WT</th>\n",
              "      <th>VOLUME_BRAIN</th>\n",
              "      <th>VOLUME_ET_OVER_NET</th>\n",
              "      <th>VOLUME_ET_OVER_ED</th>\n",
              "      <th>VOLUME_NET_OVER_ED</th>\n",
              "      <th>VOLUME_ET_over_TC</th>\n",
              "      <th>...</th>\n",
              "      <th>TEXTURE_NGTDM_NET_FLAIR_Complexity</th>\n",
              "      <th>TEXTURE_NGTDM_NET_FLAIR_Strength</th>\n",
              "      <th>TGM_p1</th>\n",
              "      <th>TGM_dw</th>\n",
              "      <th>TGM_Cog_X_1</th>\n",
              "      <th>TGM_Cog_Y_1</th>\n",
              "      <th>TGM_Cog_Z_1</th>\n",
              "      <th>TGM_T_1</th>\n",
              "      <th>Age</th>\n",
              "      <th>Survival_cat</th>\n",
              "    </tr>\n",
              "  </thead>\n",
              "  <tbody>\n",
              "    <tr>\n",
              "      <th>0</th>\n",
              "      <td>1662</td>\n",
              "      <td>384</td>\n",
              "      <td>36268</td>\n",
              "      <td>2046</td>\n",
              "      <td>38314</td>\n",
              "      <td>1469432</td>\n",
              "      <td>4.328125</td>\n",
              "      <td>0.045826</td>\n",
              "      <td>0.010588</td>\n",
              "      <td>0.81232</td>\n",
              "      <td>...</td>\n",
              "      <td>2203.2034</td>\n",
              "      <td>61.3293</td>\n",
              "      <td>8.00000</td>\n",
              "      <td>7.500000e-07</td>\n",
              "      <td>0.178609</td>\n",
              "      <td>0.096256</td>\n",
              "      <td>0.052741</td>\n",
              "      <td>2.0000</td>\n",
              "      <td>56.208219</td>\n",
              "      <td>HIGH</td>\n",
              "    </tr>\n",
              "    <tr>\n",
              "      <th>1</th>\n",
              "      <td>4362</td>\n",
              "      <td>4349</td>\n",
              "      <td>15723</td>\n",
              "      <td>8711</td>\n",
              "      <td>24434</td>\n",
              "      <td>1295721</td>\n",
              "      <td>1.002989</td>\n",
              "      <td>0.277428</td>\n",
              "      <td>0.276601</td>\n",
              "      <td>0.50075</td>\n",
              "      <td>...</td>\n",
              "      <td>1440.4285</td>\n",
              "      <td>3.5999</td>\n",
              "      <td>3.31250</td>\n",
              "      <td>1.000000e-09</td>\n",
              "      <td>0.077619</td>\n",
              "      <td>0.122900</td>\n",
              "      <td>0.094336</td>\n",
              "      <td>91.4736</td>\n",
              "      <td>61.526027</td>\n",
              "      <td>MID</td>\n",
              "    </tr>\n",
              "    <tr>\n",
              "      <th>2</th>\n",
              "      <td>33404</td>\n",
              "      <td>48612</td>\n",
              "      <td>45798</td>\n",
              "      <td>82016</td>\n",
              "      <td>127814</td>\n",
              "      <td>1425843</td>\n",
              "      <td>0.687155</td>\n",
              "      <td>0.729377</td>\n",
              "      <td>1.061444</td>\n",
              "      <td>0.40729</td>\n",
              "      <td>...</td>\n",
              "      <td>1147.5177</td>\n",
              "      <td>0.8048</td>\n",
              "      <td>5.78125</td>\n",
              "      <td>1.000000e-09</td>\n",
              "      <td>0.132283</td>\n",
              "      <td>0.116006</td>\n",
              "      <td>0.096035</td>\n",
              "      <td>272.4290</td>\n",
              "      <td>18.975342</td>\n",
              "      <td>HIGH</td>\n",
              "    </tr>\n",
              "    <tr>\n",
              "      <th>3</th>\n",
              "      <td>12114</td>\n",
              "      <td>7587</td>\n",
              "      <td>34086</td>\n",
              "      <td>19701</td>\n",
              "      <td>53787</td>\n",
              "      <td>1403429</td>\n",
              "      <td>1.596679</td>\n",
              "      <td>0.355395</td>\n",
              "      <td>0.222584</td>\n",
              "      <td>0.61489</td>\n",
              "      <td>...</td>\n",
              "      <td>3320.1690</td>\n",
              "      <td>4.7336</td>\n",
              "      <td>3.87500</td>\n",
              "      <td>1.000000e-09</td>\n",
              "      <td>0.100415</td>\n",
              "      <td>0.088249</td>\n",
              "      <td>0.096470</td>\n",
              "      <td>128.4680</td>\n",
              "      <td>33.887671</td>\n",
              "      <td>MID</td>\n",
              "    </tr>\n",
              "    <tr>\n",
              "      <th>4</th>\n",
              "      <td>34538</td>\n",
              "      <td>7137</td>\n",
              "      <td>65653</td>\n",
              "      <td>41675</td>\n",
              "      <td>107328</td>\n",
              "      <td>1365237</td>\n",
              "      <td>4.839288</td>\n",
              "      <td>0.526069</td>\n",
              "      <td>0.108708</td>\n",
              "      <td>0.82875</td>\n",
              "      <td>...</td>\n",
              "      <td>1834.1052</td>\n",
              "      <td>2.4532</td>\n",
              "      <td>1.00000</td>\n",
              "      <td>5.730000e-08</td>\n",
              "      <td>0.106184</td>\n",
              "      <td>0.131952</td>\n",
              "      <td>0.096894</td>\n",
              "      <td>240.7780</td>\n",
              "      <td>54.986301</td>\n",
              "      <td>LOW</td>\n",
              "    </tr>\n",
              "  </tbody>\n",
              "</table>\n",
              "<p>5 rows × 706 columns</p>\n",
              "</div>\n",
              "    <div class=\"colab-df-buttons\">\n",
              "\n",
              "  <div class=\"colab-df-container\">\n",
              "    <button class=\"colab-df-convert\" onclick=\"convertToInteractive('df-06df6a0c-57ac-4684-8174-920176815a07')\"\n",
              "            title=\"Convert this dataframe to an interactive table.\"\n",
              "            style=\"display:none;\">\n",
              "\n",
              "  <svg xmlns=\"http://www.w3.org/2000/svg\" height=\"24px\" viewBox=\"0 -960 960 960\">\n",
              "    <path d=\"M120-120v-720h720v720H120Zm60-500h600v-160H180v160Zm220 220h160v-160H400v160Zm0 220h160v-160H400v160ZM180-400h160v-160H180v160Zm440 0h160v-160H620v160ZM180-180h160v-160H180v160Zm440 0h160v-160H620v160Z\"/>\n",
              "  </svg>\n",
              "    </button>\n",
              "\n",
              "  <style>\n",
              "    .colab-df-container {\n",
              "      display:flex;\n",
              "      gap: 12px;\n",
              "    }\n",
              "\n",
              "    .colab-df-convert {\n",
              "      background-color: #E8F0FE;\n",
              "      border: none;\n",
              "      border-radius: 50%;\n",
              "      cursor: pointer;\n",
              "      display: none;\n",
              "      fill: #1967D2;\n",
              "      height: 32px;\n",
              "      padding: 0 0 0 0;\n",
              "      width: 32px;\n",
              "    }\n",
              "\n",
              "    .colab-df-convert:hover {\n",
              "      background-color: #E2EBFA;\n",
              "      box-shadow: 0px 1px 2px rgba(60, 64, 67, 0.3), 0px 1px 3px 1px rgba(60, 64, 67, 0.15);\n",
              "      fill: #174EA6;\n",
              "    }\n",
              "\n",
              "    .colab-df-buttons div {\n",
              "      margin-bottom: 4px;\n",
              "    }\n",
              "\n",
              "    [theme=dark] .colab-df-convert {\n",
              "      background-color: #3B4455;\n",
              "      fill: #D2E3FC;\n",
              "    }\n",
              "\n",
              "    [theme=dark] .colab-df-convert:hover {\n",
              "      background-color: #434B5C;\n",
              "      box-shadow: 0px 1px 3px 1px rgba(0, 0, 0, 0.15);\n",
              "      filter: drop-shadow(0px 1px 2px rgba(0, 0, 0, 0.3));\n",
              "      fill: #FFFFFF;\n",
              "    }\n",
              "  </style>\n",
              "\n",
              "    <script>\n",
              "      const buttonEl =\n",
              "        document.querySelector('#df-06df6a0c-57ac-4684-8174-920176815a07 button.colab-df-convert');\n",
              "      buttonEl.style.display =\n",
              "        google.colab.kernel.accessAllowed ? 'block' : 'none';\n",
              "\n",
              "      async function convertToInteractive(key) {\n",
              "        const element = document.querySelector('#df-06df6a0c-57ac-4684-8174-920176815a07');\n",
              "        const dataTable =\n",
              "          await google.colab.kernel.invokeFunction('convertToInteractive',\n",
              "                                                    [key], {});\n",
              "        if (!dataTable) return;\n",
              "\n",
              "        const docLinkHtml = 'Like what you see? Visit the ' +\n",
              "          '<a target=\"_blank\" href=https://colab.research.google.com/notebooks/data_table.ipynb>data table notebook</a>'\n",
              "          + ' to learn more about interactive tables.';\n",
              "        element.innerHTML = '';\n",
              "        dataTable['output_type'] = 'display_data';\n",
              "        await google.colab.output.renderOutput(dataTable, element);\n",
              "        const docLink = document.createElement('div');\n",
              "        docLink.innerHTML = docLinkHtml;\n",
              "        element.appendChild(docLink);\n",
              "      }\n",
              "    </script>\n",
              "  </div>\n",
              "\n",
              "\n",
              "<div id=\"df-fbe216c2-2f44-4181-aeb3-0b063db2d951\">\n",
              "  <button class=\"colab-df-quickchart\" onclick=\"quickchart('df-fbe216c2-2f44-4181-aeb3-0b063db2d951')\"\n",
              "            title=\"Suggest charts\"\n",
              "            style=\"display:none;\">\n",
              "\n",
              "<svg xmlns=\"http://www.w3.org/2000/svg\" height=\"24px\"viewBox=\"0 0 24 24\"\n",
              "     width=\"24px\">\n",
              "    <g>\n",
              "        <path d=\"M19 3H5c-1.1 0-2 .9-2 2v14c0 1.1.9 2 2 2h14c1.1 0 2-.9 2-2V5c0-1.1-.9-2-2-2zM9 17H7v-7h2v7zm4 0h-2V7h2v10zm4 0h-2v-4h2v4z\"/>\n",
              "    </g>\n",
              "</svg>\n",
              "  </button>\n",
              "\n",
              "<style>\n",
              "  .colab-df-quickchart {\n",
              "      --bg-color: #E8F0FE;\n",
              "      --fill-color: #1967D2;\n",
              "      --hover-bg-color: #E2EBFA;\n",
              "      --hover-fill-color: #174EA6;\n",
              "      --disabled-fill-color: #AAA;\n",
              "      --disabled-bg-color: #DDD;\n",
              "  }\n",
              "\n",
              "  [theme=dark] .colab-df-quickchart {\n",
              "      --bg-color: #3B4455;\n",
              "      --fill-color: #D2E3FC;\n",
              "      --hover-bg-color: #434B5C;\n",
              "      --hover-fill-color: #FFFFFF;\n",
              "      --disabled-bg-color: #3B4455;\n",
              "      --disabled-fill-color: #666;\n",
              "  }\n",
              "\n",
              "  .colab-df-quickchart {\n",
              "    background-color: var(--bg-color);\n",
              "    border: none;\n",
              "    border-radius: 50%;\n",
              "    cursor: pointer;\n",
              "    display: none;\n",
              "    fill: var(--fill-color);\n",
              "    height: 32px;\n",
              "    padding: 0;\n",
              "    width: 32px;\n",
              "  }\n",
              "\n",
              "  .colab-df-quickchart:hover {\n",
              "    background-color: var(--hover-bg-color);\n",
              "    box-shadow: 0 1px 2px rgba(60, 64, 67, 0.3), 0 1px 3px 1px rgba(60, 64, 67, 0.15);\n",
              "    fill: var(--button-hover-fill-color);\n",
              "  }\n",
              "\n",
              "  .colab-df-quickchart-complete:disabled,\n",
              "  .colab-df-quickchart-complete:disabled:hover {\n",
              "    background-color: var(--disabled-bg-color);\n",
              "    fill: var(--disabled-fill-color);\n",
              "    box-shadow: none;\n",
              "  }\n",
              "\n",
              "  .colab-df-spinner {\n",
              "    border: 2px solid var(--fill-color);\n",
              "    border-color: transparent;\n",
              "    border-bottom-color: var(--fill-color);\n",
              "    animation:\n",
              "      spin 1s steps(1) infinite;\n",
              "  }\n",
              "\n",
              "  @keyframes spin {\n",
              "    0% {\n",
              "      border-color: transparent;\n",
              "      border-bottom-color: var(--fill-color);\n",
              "      border-left-color: var(--fill-color);\n",
              "    }\n",
              "    20% {\n",
              "      border-color: transparent;\n",
              "      border-left-color: var(--fill-color);\n",
              "      border-top-color: var(--fill-color);\n",
              "    }\n",
              "    30% {\n",
              "      border-color: transparent;\n",
              "      border-left-color: var(--fill-color);\n",
              "      border-top-color: var(--fill-color);\n",
              "      border-right-color: var(--fill-color);\n",
              "    }\n",
              "    40% {\n",
              "      border-color: transparent;\n",
              "      border-right-color: var(--fill-color);\n",
              "      border-top-color: var(--fill-color);\n",
              "    }\n",
              "    60% {\n",
              "      border-color: transparent;\n",
              "      border-right-color: var(--fill-color);\n",
              "    }\n",
              "    80% {\n",
              "      border-color: transparent;\n",
              "      border-right-color: var(--fill-color);\n",
              "      border-bottom-color: var(--fill-color);\n",
              "    }\n",
              "    90% {\n",
              "      border-color: transparent;\n",
              "      border-bottom-color: var(--fill-color);\n",
              "    }\n",
              "  }\n",
              "</style>\n",
              "\n",
              "  <script>\n",
              "    async function quickchart(key) {\n",
              "      const quickchartButtonEl =\n",
              "        document.querySelector('#' + key + ' button');\n",
              "      quickchartButtonEl.disabled = true;  // To prevent multiple clicks.\n",
              "      quickchartButtonEl.classList.add('colab-df-spinner');\n",
              "      try {\n",
              "        const charts = await google.colab.kernel.invokeFunction(\n",
              "            'suggestCharts', [key], {});\n",
              "      } catch (error) {\n",
              "        console.error('Error during call to suggestCharts:', error);\n",
              "      }\n",
              "      quickchartButtonEl.classList.remove('colab-df-spinner');\n",
              "      quickchartButtonEl.classList.add('colab-df-quickchart-complete');\n",
              "    }\n",
              "    (() => {\n",
              "      let quickchartButtonEl =\n",
              "        document.querySelector('#df-fbe216c2-2f44-4181-aeb3-0b063db2d951 button');\n",
              "      quickchartButtonEl.style.display =\n",
              "        google.colab.kernel.accessAllowed ? 'block' : 'none';\n",
              "    })();\n",
              "  </script>\n",
              "</div>\n",
              "\n",
              "    </div>\n",
              "  </div>\n"
            ],
            "application/vnd.google.colaboratory.intrinsic+json": {
              "type": "dataframe",
              "variable_name": "df"
            }
          },
          "metadata": {},
          "execution_count": 3
        }
      ]
    },
    {
      "cell_type": "code",
      "source": [
        "from sklearn.preprocessing import StandardScaler\n",
        "\n",
        "# take x data and y data from the df_noAge, and convert them to numpy arrays, y is the last column which is catogorical\n",
        "X = df.iloc[:, :-1].values\n",
        "y = df.iloc[:, -1].values\n",
        "\n",
        "# Scale the data\n",
        "scaler = StandardScaler()\n",
        "X_scaled = scaler.fit_transform(X)\n",
        "\n",
        "X_scaled.shape"
      ],
      "metadata": {
        "colab": {
          "base_uri": "https://localhost:8080/"
        },
        "id": "QyLfeG0E2gR5",
        "outputId": "d1eb3544-4d5d-4922-9741-0d3b7cbbd08b"
      },
      "execution_count": 4,
      "outputs": [
        {
          "output_type": "execute_result",
          "data": {
            "text/plain": [
              "(76, 705)"
            ]
          },
          "metadata": {},
          "execution_count": 4
        }
      ]
    },
    {
      "cell_type": "markdown",
      "source": [
        "Results from the previous RFE\n",
        "\n",
        "Selected 5 features: Index(['HISTO_NET_T2_Bin9', 'TEXTURE_GLRLM_ED_T2_GLN',\n",
        "       'TEXTURE_GLSZM_ED_T1Gd_ZSN', 'TEXTURE_GLSZM_NET_T2_LGZE', 'Age'],\n",
        "      dtype='object')\n",
        "\n",
        "\n",
        "Selected 6 features: Index(['HISTO_NET_T2_Bin9', 'HISTO_NET_FLAIR_Bin2', 'TEXTURE_GLRLM_ED_T2_GLN',\n",
        "       'TEXTURE_GLSZM_ED_T1Gd_ZSN', 'TEXTURE_GLSZM_NET_T2_LGZE', 'Age'],\n",
        "      dtype='object')\n",
        "\n",
        "\n",
        "Selected 7 features: Index(['HISTO_NET_T2_Bin9', 'TEXTURE_GLRLM_ED_T2_GLN',\n",
        "       'TEXTURE_GLSZM_ED_T1Gd_ZSN', 'TEXTURE_GLSZM_ED_T1Gd_ZSV',\n",
        "       'TEXTURE_GLSZM_NET_T2_LGZE', 'TGM_T_1', 'Age'],\n",
        "      dtype='object')\n",
        "\n",
        "\n",
        "Selected 8 features: Index(['HISTO_NET_T1Gd_Bin7', 'HISTO_NET_T2_Bin9', 'HISTO_NET_FLAIR_Bin2',\n",
        "       'TEXTURE_GLRLM_ED_T2_GLN', 'TEXTURE_GLSZM_ED_T1Gd_ZSN',\n",
        "       'TEXTURE_GLSZM_ED_T1Gd_ZSV', 'TEXTURE_GLSZM_NET_T2_LGZE', 'Age'],\n",
        "      dtype='object')\n",
        "\n",
        "\n",
        "Selected 9 features: Index(['HISTO_NET_T1Gd_Bin7', 'HISTO_NET_T2_Bin9', 'HISTO_NET_FLAIR_Bin2',\n",
        "       'TEXTURE_GLRLM_ED_T2_GLN', 'TEXTURE_GLSZM_ED_T1Gd_ZSN',\n",
        "       'TEXTURE_GLSZM_ED_T1Gd_ZSV', 'TEXTURE_GLSZM_NET_T1_LZLGE',\n",
        "       'TEXTURE_GLSZM_NET_T2_LGZE', 'Age'],\n",
        "      dtype='object')\n",
        "\n",
        "\n",
        "Selected 10 features: Index(['HISTO_NET_T1Gd_Bin7', 'HISTO_NET_T2_Bin9', 'HISTO_NET_FLAIR_Bin2',\n",
        "       'TEXTURE_GLRLM_ED_T2_GLN', 'TEXTURE_GLSZM_ED_T1Gd_ZSN',\n",
        "       'TEXTURE_GLSZM_ED_T1Gd_ZSV', 'TEXTURE_GLSZM_NET_T1_GLV',\n",
        "       'TEXTURE_GLSZM_NET_T2_LGZE', 'TGM_T_1', 'Age'],\n",
        "      dtype='object')\n",
        "\n",
        "\n",
        "Selected 11 features: Index(['HISTO_NET_T1Gd_Bin7', 'HISTO_NET_T2_Bin9', 'HISTO_NET_FLAIR_Bin2',\n",
        "       'TEXTURE_GLRLM_ED_T2_GLN', 'TEXTURE_GLSZM_ED_T1Gd_ZSN',\n",
        "       'TEXTURE_GLSZM_ED_T1Gd_ZSV', 'TEXTURE_GLSZM_NET_T1_GLV',\n",
        "       'TEXTURE_GLSZM_NET_T1_ZSV', 'TEXTURE_GLSZM_NET_T2_LGZE', 'TGM_T_1',\n",
        "       'Age'],\n",
        "      dtype='object')\n",
        "\n",
        "\n",
        "Selected 12 features: Index(['HISTO_NET_T1Gd_Bin7', 'HISTO_NET_T2_Bin9', 'HISTO_NET_FLAIR_Bin2',\n",
        "       'TEXTURE_GLRLM_ED_T2_GLN', 'TEXTURE_GLSZM_ED_T1Gd_ZSN',\n",
        "       'TEXTURE_GLSZM_ED_T1Gd_ZSV', 'TEXTURE_GLSZM_NET_T1_LZHGE',\n",
        "       'TEXTURE_GLSZM_NET_T1_GLV', 'TEXTURE_GLSZM_NET_T2_ZP',\n",
        "       'TEXTURE_GLSZM_NET_T2_LGZE', 'TGM_T_1', 'Age'],\n",
        "      dtype='object')\n",
        "\n",
        "\n",
        "Selected 13 features: Index(['HISTO_NET_T1Gd_Bin7', 'HISTO_NET_T2_Bin9', 'HISTO_NET_FLAIR_Bin2',\n",
        "       'TEXTURE_GLRLM_ED_T2_GLN', 'TEXTURE_GLSZM_ED_T1Gd_ZSN',\n",
        "       'TEXTURE_GLSZM_ED_T1Gd_ZSV', 'TEXTURE_GLSZM_NET_T1_SZLGE',\n",
        "       'TEXTURE_GLSZM_NET_T1_SZHGE', 'TEXTURE_GLSZM_NET_T1_LZLGE',\n",
        "       'TEXTURE_GLSZM_NET_T1_ZSV', 'TEXTURE_GLSZM_NET_T2_LGZE', 'TGM_T_1',\n",
        "       'Age'],\n",
        "      dtype='object')\n",
        "\n",
        "\n",
        "Selected 14 features: Index(['HISTO_NET_T1Gd_Bin7', 'HISTO_NET_T2_Bin9', 'HISTO_NET_FLAIR_Bin2',\n",
        "       'TEXTURE_GLRLM_ED_T2_GLN', 'TEXTURE_GLSZM_ED_T1Gd_ZSN',\n",
        "       'TEXTURE_GLSZM_ED_T1Gd_ZSV', 'TEXTURE_GLSZM_NET_T2_SZE',\n",
        "       'TEXTURE_GLSZM_NET_T2_LZE', 'TEXTURE_GLSZM_NET_T2_GLN',\n",
        "       'TEXTURE_GLSZM_NET_T2_ZP', 'TEXTURE_GLSZM_NET_T2_LGZE',\n",
        "       'TEXTURE_GLSZM_NET_T2_ZSV', 'TGM_T_1', 'Age'],\n",
        "      dtype='object')\n",
        "\n",
        "\n",
        "Selected 15 features: Index(['HISTO_NET_T1Gd_Bin7', 'HISTO_ET_T1_Bin4', 'HISTO_ET_T1_Bin6',\n",
        "       'HISTO_NET_T2_Bin9', 'HISTO_NET_FLAIR_Bin2', 'TEXTURE_GLRLM_ED_T2_GLN',\n",
        "       'TEXTURE_GLSZM_ED_T1Gd_ZSN', 'TEXTURE_GLSZM_ED_T1Gd_ZSV',\n",
        "       'TEXTURE_GLSZM_NET_T1_SZHGE', 'TEXTURE_GLSZM_NET_T1_LZLGE',\n",
        "       'TEXTURE_GLSZM_NET_T1_LZHGE', 'TEXTURE_GLSZM_NET_T1_GLV',\n",
        "       'TEXTURE_GLSZM_NET_T2_LGZE', 'TGM_T_1', 'Age'],\n",
        "      dtype='object')\n",
        "\n",
        "\n",
        "Selected 16 features: Index(['HISTO_NET_T1Gd_Bin7', 'HISTO_ET_T1_Bin3', 'HISTO_ET_T1_Bin4',\n",
        "       'HISTO_NET_T2_Bin9', 'HISTO_NET_FLAIR_Bin2', 'TEXTURE_GLRLM_ED_T2_GLN',\n",
        "       'TEXTURE_GLSZM_ED_T1Gd_ZSN', 'TEXTURE_GLSZM_ED_T1Gd_ZSV',\n",
        "       'TEXTURE_GLSZM_NET_T1_LZHGE', 'TEXTURE_GLSZM_NET_T1_GLV',\n",
        "       'TEXTURE_GLSZM_NET_T1_ZSV', 'TEXTURE_GLSZM_NET_T2_GLN',\n",
        "       'TEXTURE_GLSZM_NET_T2_ZSN', 'TEXTURE_GLSZM_NET_T2_LGZE', 'TGM_T_1',\n",
        "       'Age'],\n",
        "      dtype='object')\n",
        "\n",
        "\n",
        "Selected 17 features: Index(['HISTO_NET_T1Gd_Bin7', 'HISTO_ET_T1_Bin1', 'HISTO_ET_T1_Bin2',\n",
        "       'HISTO_ET_T1_Bin3', 'HISTO_ET_T1_Bin4', 'HISTO_NET_T1_Bin10',\n",
        "       'HISTO_NET_T2_Bin9', 'HISTO_NET_FLAIR_Bin2', 'TEXTURE_GLRLM_ED_T2_GLN',\n",
        "       'TEXTURE_GLSZM_ED_T1Gd_ZSN', 'TEXTURE_GLSZM_ED_T1Gd_ZSV',\n",
        "       'TEXTURE_GLSZM_NET_T1_LZHGE', 'TEXTURE_GLSZM_NET_T1_GLV',\n",
        "       'TEXTURE_GLSZM_NET_T1_ZSV', 'TEXTURE_GLSZM_NET_T2_LGZE', 'TGM_T_1',\n",
        "       'Age'],\n",
        "      dtype='object')\n",
        "\n",
        "\n",
        "Selected 18 features: Index(['HISTO_NET_T1Gd_Bin7', 'HISTO_NET_T1Gd_Bin8', 'HISTO_ET_T1_Bin1',\n",
        "       'HISTO_ET_T1_Bin2', 'HISTO_ET_T1_Bin3', 'HISTO_ET_T1_Bin4',\n",
        "       'HISTO_NET_T2_Bin9', 'HISTO_NET_FLAIR_Bin2', 'TEXTURE_GLRLM_ED_T2_GLN',\n",
        "       'TEXTURE_GLSZM_ED_T1Gd_ZSN', 'TEXTURE_GLSZM_ED_T1Gd_ZSV',\n",
        "       'TEXTURE_GLSZM_NET_T1_ZSV', 'TEXTURE_GLSZM_NET_T2_SZE',\n",
        "       'TEXTURE_GLSZM_NET_T2_LZE', 'TEXTURE_GLSZM_NET_T2_LGZE',\n",
        "       'TEXTURE_GLSZM_NET_FLAIR_GLV', 'TGM_T_1', 'Age'],\n",
        "      dtype='object')\n",
        "\n",
        "\n",
        "Selected 19 features: Index(['HISTO_NET_T1Gd_Bin7', 'HISTO_NET_T1Gd_Bin10', 'HISTO_ET_T1_Bin1',\n",
        "       'HISTO_ET_T1_Bin2', 'HISTO_ET_T1_Bin3', 'HISTO_ET_T1_Bin4',\n",
        "       'HISTO_ET_T1_Bin5', 'HISTO_NET_T2_Bin9', 'HISTO_NET_FLAIR_Bin2',\n",
        "       'TEXTURE_GLRLM_ED_T2_GLN', 'TEXTURE_GLSZM_ED_T1Gd_ZSN',\n",
        "       'TEXTURE_GLSZM_ED_T1Gd_ZSV', 'TEXTURE_GLSZM_NET_T2_SZE',\n",
        "       'TEXTURE_GLSZM_NET_T2_LZE', 'TEXTURE_GLSZM_NET_T2_GLN',\n",
        "       'TEXTURE_GLSZM_NET_T2_LGZE', 'TEXTURE_NGTDM_ET_T1Gd_Strength',\n",
        "       'TGM_T_1', 'Age'],\n",
        "      dtype='object')\n",
        "\n",
        "\n",
        "Selected 20 features: Index(['HISTO_NET_T1Gd_Bin7', 'HISTO_NET_T1Gd_Bin10', 'HISTO_ET_T1_Bin1',\n",
        "       'HISTO_ET_T1_Bin2', 'HISTO_ET_T1_Bin3', 'HISTO_ET_T1_Bin4',\n",
        "       'HISTO_ET_T1_Bin10', 'HISTO_NET_T2_Bin9', 'HISTO_NET_FLAIR_Bin2',\n",
        "       'TEXTURE_GLRLM_ED_T2_GLN', 'TEXTURE_GLSZM_ED_T1Gd_ZSN',\n",
        "       'TEXTURE_GLSZM_ED_T1Gd_ZSV', 'TEXTURE_GLSZM_NET_T1_LGZE',\n",
        "       'TEXTURE_GLSZM_NET_T1_HGZE', 'TEXTURE_GLSZM_NET_T1_SZLGE',\n",
        "       'TEXTURE_GLSZM_NET_T1_SZHGE', 'TEXTURE_GLSZM_NET_T1_LZLGE',\n",
        "       'TEXTURE_GLSZM_NET_T2_LGZE', 'TGM_T_1', 'Age'],\n",
        "      dtype='object')\n",
        "\n",
        "\n",
        "Selected 21 features: Index(['HISTO_NET_T1Gd_Bin7', 'HISTO_NET_T1Gd_Bin9', 'HISTO_NET_T1Gd_Bin10',\n",
        "       'HISTO_ET_T1_Bin1', 'HISTO_ET_T1_Bin2', 'HISTO_ET_T1_Bin3',\n",
        "       'HISTO_ET_T1_Bin4', 'HISTO_ET_T1_Bin5', 'HISTO_NET_T2_Bin9',\n",
        "       'HISTO_NET_FLAIR_Bin2', 'TEXTURE_GLRLM_ED_T2_GLN',\n",
        "       'TEXTURE_GLSZM_ED_T1Gd_ZSN', 'TEXTURE_GLSZM_ED_T1Gd_ZSV',\n",
        "       'TEXTURE_GLSZM_NET_T1_GLV', 'TEXTURE_GLSZM_NET_T1_ZSV',\n",
        "       'TEXTURE_GLSZM_NET_T2_SZE', 'TEXTURE_GLSZM_NET_T2_LZE',\n",
        "       'TEXTURE_GLSZM_NET_T2_GLN', 'TEXTURE_GLSZM_NET_T2_LGZE', 'TGM_T_1',\n",
        "       'Age'],\n",
        "      dtype='object')\n",
        "\n",
        "\n",
        "Selected 22 features: Index(['HISTO_NET_T1Gd_Bin7', 'HISTO_NET_T1Gd_Bin8', 'HISTO_NET_T1Gd_Bin9',\n",
        "       'HISTO_NET_T1Gd_Bin10', 'HISTO_ET_T1_Bin1', 'HISTO_ET_T1_Bin2',\n",
        "       'HISTO_ET_T1_Bin3', 'HISTO_ET_T1_Bin4', 'HISTO_NET_T2_Bin9',\n",
        "       'HISTO_NET_FLAIR_Bin2', 'TEXTURE_GLRLM_ED_T2_GLN',\n",
        "       'TEXTURE_GLSZM_ED_T1Gd_ZSN', 'TEXTURE_GLSZM_ED_T1Gd_ZSV',\n",
        "       'TEXTURE_GLSZM_NET_T1_ZSV', 'TEXTURE_GLSZM_NET_T2_SZE',\n",
        "       'TEXTURE_GLSZM_NET_T2_LZE', 'TEXTURE_GLSZM_NET_T2_GLN',\n",
        "       'TEXTURE_GLSZM_NET_T2_ZSN', 'TEXTURE_GLSZM_NET_T2_LGZE',\n",
        "       'TEXTURE_NGTDM_ET_T2_Coarseness', 'TGM_T_1', 'Age'],\n",
        "      dtype='object')\n",
        "\n",
        "\n",
        "Selected 23 features: Index(['HISTO_NET_T1Gd_Bin7', 'HISTO_NET_T1Gd_Bin8', 'HISTO_NET_T1Gd_Bin9',\n",
        "       'HISTO_NET_T1Gd_Bin10', 'HISTO_ET_T1_Bin1', 'HISTO_ET_T1_Bin2',\n",
        "       'HISTO_ET_T1_Bin3', 'HISTO_ET_T1_Bin4', 'HISTO_ET_T1_Bin6',\n",
        "       'HISTO_NET_T2_Bin9', 'HISTO_NET_FLAIR_Bin2', 'TEXTURE_GLRLM_ED_T2_GLN',\n",
        "       'TEXTURE_GLSZM_ED_T1Gd_ZSN', 'TEXTURE_GLSZM_ED_T1Gd_ZSV',\n",
        "       'TEXTURE_GLSZM_NET_T1_SZHGE', 'TEXTURE_GLSZM_NET_T1_LZLGE',\n",
        "       'TEXTURE_GLSZM_NET_T1_LZHGE', 'TEXTURE_GLSZM_NET_T1_GLV',\n",
        "       'TEXTURE_GLSZM_NET_T1_ZSV', 'TEXTURE_GLSZM_NET_T2_LZE',\n",
        "       'TEXTURE_GLSZM_NET_T2_LGZE', 'TGM_T_1', 'Age'],\n",
        "      dtype='object')\n",
        "\n",
        "\n",
        "Selected 24 features: Index(['HISTO_NET_T1Gd_Bin7', 'HISTO_NET_T1Gd_Bin8', 'HISTO_NET_T1Gd_Bin9',\n",
        "       'HISTO_NET_T1Gd_Bin10', 'HISTO_ET_T1_Bin1', 'HISTO_ET_T1_Bin2',\n",
        "       'HISTO_ET_T1_Bin3', 'HISTO_ET_T1_Bin4', 'HISTO_ET_T1_Bin5',\n",
        "       'HISTO_ET_T1_Bin6', 'HISTO_NET_T2_Bin9', 'HISTO_NET_FLAIR_Bin2',\n",
        "       'TEXTURE_GLRLM_ED_T2_GLN', 'TEXTURE_GLSZM_ED_T1Gd_ZSN',\n",
        "       'TEXTURE_GLSZM_ED_T1Gd_ZSV', 'TEXTURE_GLSZM_NET_T1_LZHGE',\n",
        "       'TEXTURE_GLSZM_NET_T1_GLV', 'TEXTURE_GLSZM_NET_T1_ZSV',\n",
        "       'TEXTURE_GLSZM_NET_T2_SZE', 'TEXTURE_GLSZM_NET_T2_LZE',\n",
        "       'TEXTURE_GLSZM_NET_T2_ZSN', 'TEXTURE_GLSZM_NET_T2_LGZE', 'TGM_T_1',\n",
        "       'Age'],\n",
        "      dtype='object')\n",
        "\n",
        "\n",
        "Selected 25 features: Index(['HISTO_NET_T1Gd_Bin7', 'HISTO_NET_T1Gd_Bin8', 'HISTO_NET_T1Gd_Bin9',\n",
        "       'HISTO_NET_T1Gd_Bin10', 'HISTO_ET_T1_Bin1', 'HISTO_ET_T1_Bin2',\n",
        "       'HISTO_ET_T1_Bin3', 'HISTO_ET_T1_Bin4', 'HISTO_ET_T1_Bin5',\n",
        "       'HISTO_NET_T2_Bin9', 'HISTO_NET_FLAIR_Bin2', 'TEXTURE_GLRLM_ED_T2_GLN',\n",
        "       'TEXTURE_GLSZM_ED_T1Gd_ZSN', 'TEXTURE_GLSZM_ED_T1Gd_ZSV',\n",
        "       'TEXTURE_GLSZM_NET_T1_LGZE', 'TEXTURE_GLSZM_NET_T1_HGZE',\n",
        "       'TEXTURE_GLSZM_NET_T1_SZLGE', 'TEXTURE_GLSZM_NET_T1_SZHGE',\n",
        "       'TEXTURE_GLSZM_NET_T1_LZLGE', 'TEXTURE_GLSZM_NET_T1_LZHGE',\n",
        "       'TEXTURE_GLSZM_NET_T1_GLV', 'TEXTURE_GLSZM_NET_T1_ZSV',\n",
        "       'TEXTURE_GLSZM_NET_T2_LGZE', 'TGM_T_1', 'Age'],\n",
        "      dtype='object')"
      ],
      "metadata": {
        "id": "7wRttNSs3gqf"
      }
    },
    {
      "cell_type": "markdown",
      "source": [
        "# CART"
      ],
      "metadata": {
        "id": "h8xLitYd5kCJ"
      }
    },
    {
      "cell_type": "code",
      "source": [
        "# helper function\n",
        "\n",
        "def fitting(X, y, criterion, splitter, mdepth, clweight, minleaf, feature_names):\n",
        "\n",
        "    # Create training and testing samples\n",
        "    X_train, X_test, y_train, y_test = train_test_split(X, y, test_size=0.1, random_state=0)\n",
        "\n",
        "    # Fit the model\n",
        "    model = tree.DecisionTreeClassifier(criterion=criterion,\n",
        "                                        splitter=splitter,\n",
        "                                        max_depth=mdepth,\n",
        "                                        class_weight=clweight,\n",
        "                                        min_samples_leaf=minleaf,\n",
        "                                        random_state=0,\n",
        "                                  )\n",
        "\n",
        "    clf = model.fit(X_train, y_train)\n",
        "\n",
        "    # Predict class labels on training data\n",
        "    pred_labels_tr = model.predict(X_train)\n",
        "    # Predict class labels on a test data\n",
        "    pred_labels_te = model.predict(X_test)\n",
        "\n",
        "    # Tree summary and model evaluation metrics\n",
        "    print('*************** Tree Summary ***************')\n",
        "    print('Classes: ', clf.classes_)\n",
        "    print('Tree Depth: ', clf.tree_.max_depth)\n",
        "    print('No. of leaves: ', clf.tree_.n_leaves)\n",
        "    print('No. of features: ', clf.n_features_in_)\n",
        "    print('--------------------------------------------------------')\n",
        "    print(\"\")\n",
        "\n",
        "    print('*************** Evaluation on Test Data ***************')\n",
        "    score_te = model.score(X_test, y_test)\n",
        "    print('Accuracy Score: ', score_te)\n",
        "    # Look at classification report to evaluate the model\n",
        "    print(classification_report(y_test, pred_labels_te))\n",
        "    print('--------------------------------------------------------')\n",
        "    print(\"\")\n",
        "\n",
        "    print('*************** Evaluation on Training Data ***************')\n",
        "    score_tr = model.score(X_train, y_train)\n",
        "    print('Accuracy Score: ', score_tr)\n",
        "    # Look at classification report to evaluate the model\n",
        "    print(classification_report(y_train, pred_labels_tr))\n",
        "    print('--------------------------------------------------------')\n",
        "\n",
        "    # Use graphviz to plot the tree\n",
        "    dot_data = tree.export_graphviz(clf, out_file=None,\n",
        "                                feature_names=feature_names,\n",
        "                                #class_names=[str(list(clf.classes_)[0]), str(list(clf.classes_)[1], str(list(clf.classes_)[2]))],\n",
        "                                class_names = ['HIGH', 'LOW', 'MID'],\n",
        "                                filled=True,\n",
        "                                rounded=True,\n",
        "                                #rotate=True,\n",
        "                               )\n",
        "    graph = graphviz.Source(dot_data)\n",
        "\n",
        "    # Return relevant data for chart plotting\n",
        "    return X_train, X_test, y_train, y_test, clf, graph"
      ],
      "metadata": {
        "id": "EhOcwH2U6ycZ"
      },
      "execution_count": null,
      "outputs": []
    },
    {
      "cell_type": "code",
      "source": [
        "# Extract corresponding values using NumPy indexing\n",
        "valid_columns = ['HISTO_NET_T2_Bin9', 'TEXTURE_GLRLM_ED_T2_GLN', 'TEXTURE_GLSZM_ED_T1Gd_ZSN', 'TEXTURE_GLSZM_NET_T2_LGZE', 'Age']\n",
        "selected_values = X[:, [df.columns.get_loc(col) for col in valid_columns]]"
      ],
      "metadata": {
        "id": "ifINmxMd70Tt"
      },
      "execution_count": null,
      "outputs": []
    },
    {
      "cell_type": "code",
      "source": [
        "# Fit the model and display results\n",
        "X_train, X_test, y_train, y_test, clf, graph = fitting(selected_values, y, 'gini', 'best',\n",
        "                                                       mdepth=10,\n",
        "                                                       clweight=None,\n",
        "                                                       minleaf=1,\n",
        "                                                       feature_names = valid_columns)"
      ],
      "metadata": {
        "colab": {
          "base_uri": "https://localhost:8080/"
        },
        "id": "VaGqlCqF5o6F",
        "outputId": "47ae81a8-966a-4d41-c95d-0d9a3062abc8"
      },
      "execution_count": null,
      "outputs": [
        {
          "output_type": "stream",
          "name": "stdout",
          "text": [
            "*************** Tree Summary ***************\n",
            "Classes:  ['HIGH' 'LOW' 'MID']\n",
            "Tree Depth:  7\n",
            "No. of leaves:  20\n",
            "No. of features:  5\n",
            "--------------------------------------------------------\n",
            "\n",
            "*************** Evaluation on Test Data ***************\n",
            "Accuracy Score:  0.75\n",
            "              precision    recall  f1-score   support\n",
            "\n",
            "        HIGH       0.67      1.00      0.80         2\n",
            "         LOW       0.80      1.00      0.89         4\n",
            "         MID       0.00      0.00      0.00         2\n",
            "\n",
            "    accuracy                           0.75         8\n",
            "   macro avg       0.49      0.67      0.56         8\n",
            "weighted avg       0.57      0.75      0.64         8\n",
            "\n",
            "--------------------------------------------------------\n",
            "\n",
            "*************** Evaluation on Training Data ***************\n",
            "Accuracy Score:  1.0\n",
            "              precision    recall  f1-score   support\n",
            "\n",
            "        HIGH       1.00      1.00      1.00        23\n",
            "         LOW       1.00      1.00      1.00        27\n",
            "         MID       1.00      1.00      1.00        18\n",
            "\n",
            "    accuracy                           1.00        68\n",
            "   macro avg       1.00      1.00      1.00        68\n",
            "weighted avg       1.00      1.00      1.00        68\n",
            "\n",
            "--------------------------------------------------------\n"
          ]
        },
        {
          "output_type": "stream",
          "name": "stderr",
          "text": [
            "/usr/local/lib/python3.10/dist-packages/sklearn/metrics/_classification.py:1344: UndefinedMetricWarning: Precision and F-score are ill-defined and being set to 0.0 in labels with no predicted samples. Use `zero_division` parameter to control this behavior.\n",
            "  _warn_prf(average, modifier, msg_start, len(result))\n",
            "/usr/local/lib/python3.10/dist-packages/sklearn/metrics/_classification.py:1344: UndefinedMetricWarning: Precision and F-score are ill-defined and being set to 0.0 in labels with no predicted samples. Use `zero_division` parameter to control this behavior.\n",
            "  _warn_prf(average, modifier, msg_start, len(result))\n",
            "/usr/local/lib/python3.10/dist-packages/sklearn/metrics/_classification.py:1344: UndefinedMetricWarning: Precision and F-score are ill-defined and being set to 0.0 in labels with no predicted samples. Use `zero_division` parameter to control this behavior.\n",
            "  _warn_prf(average, modifier, msg_start, len(result))\n"
          ]
        }
      ]
    },
    {
      "cell_type": "code",
      "source": [
        "graph"
      ],
      "metadata": {
        "id": "uBuLbwiLA4GM",
        "outputId": "be983b5c-f8e3-43f6-eef0-accde0095216",
        "colab": {
          "base_uri": "https://localhost:8080/",
          "height": 1000
        }
      },
      "execution_count": null,
      "outputs": [
        {
          "output_type": "execute_result",
          "data": {
            "image/svg+xml": "<?xml version=\"1.0\" encoding=\"UTF-8\" standalone=\"no\"?>\n<!DOCTYPE svg PUBLIC \"-//W3C//DTD SVG 1.1//EN\"\n \"http://www.w3.org/Graphics/SVG/1.1/DTD/svg11.dtd\">\n<!-- Generated by graphviz version 2.43.0 (0)\n -->\n<!-- Title: Tree Pages: 1 -->\n<svg width=\"1970pt\" height=\"909pt\"\n viewBox=\"0.00 0.00 1970.00 909.00\" xmlns=\"http://www.w3.org/2000/svg\" xmlns:xlink=\"http://www.w3.org/1999/xlink\">\n<g id=\"graph0\" class=\"graph\" transform=\"scale(1 1) rotate(0) translate(4 905)\">\n<title>Tree</title>\n<polygon fill=\"white\" stroke=\"transparent\" points=\"-4,4 -4,-905 1966,-905 1966,4 -4,4\"/>\n<!-- 0 -->\n<g id=\"node1\" class=\"node\">\n<title>0</title>\n<path fill=\"#edfdf4\" stroke=\"black\" d=\"M1052,-901C1052,-901 944,-901 944,-901 938,-901 932,-895 932,-889 932,-889 932,-830 932,-830 932,-824 938,-818 944,-818 944,-818 1052,-818 1052,-818 1058,-818 1064,-824 1064,-830 1064,-830 1064,-889 1064,-889 1064,-895 1058,-901 1052,-901\"/>\n<text text-anchor=\"middle\" x=\"998\" y=\"-885.8\" font-family=\"Helvetica,sans-Serif\" font-size=\"14.00\">Age &lt;= 64.312</text>\n<text text-anchor=\"middle\" x=\"998\" y=\"-870.8\" font-family=\"Helvetica,sans-Serif\" font-size=\"14.00\">gini = 0.658</text>\n<text text-anchor=\"middle\" x=\"998\" y=\"-855.8\" font-family=\"Helvetica,sans-Serif\" font-size=\"14.00\">samples = 68</text>\n<text text-anchor=\"middle\" x=\"998\" y=\"-840.8\" font-family=\"Helvetica,sans-Serif\" font-size=\"14.00\">value = [23, 27, 18]</text>\n<text text-anchor=\"middle\" x=\"998\" y=\"-825.8\" font-family=\"Helvetica,sans-Serif\" font-size=\"14.00\">class = LOW</text>\n</g>\n<!-- 1 -->\n<g id=\"node2\" class=\"node\">\n<title>1</title>\n<path fill=\"#fbe9dd\" stroke=\"black\" d=\"M977,-782C977,-782 707,-782 707,-782 701,-782 695,-776 695,-770 695,-770 695,-711 695,-711 695,-705 701,-699 707,-699 707,-699 977,-699 977,-699 983,-699 989,-705 989,-711 989,-711 989,-770 989,-770 989,-776 983,-782 977,-782\"/>\n<text text-anchor=\"middle\" x=\"842\" y=\"-766.8\" font-family=\"Helvetica,sans-Serif\" font-size=\"14.00\">TEXTURE_GLSZM_NET_T2_LGZE &lt;= 0.018</text>\n<text text-anchor=\"middle\" x=\"842\" y=\"-751.8\" font-family=\"Helvetica,sans-Serif\" font-size=\"14.00\">gini = 0.645</text>\n<text text-anchor=\"middle\" x=\"842\" y=\"-736.8\" font-family=\"Helvetica,sans-Serif\" font-size=\"14.00\">samples = 43</text>\n<text text-anchor=\"middle\" x=\"842\" y=\"-721.8\" font-family=\"Helvetica,sans-Serif\" font-size=\"14.00\">value = [19, 10, 14]</text>\n<text text-anchor=\"middle\" x=\"842\" y=\"-706.8\" font-family=\"Helvetica,sans-Serif\" font-size=\"14.00\">class = HIGH</text>\n</g>\n<!-- 0&#45;&gt;1 -->\n<g id=\"edge1\" class=\"edge\">\n<title>0&#45;&gt;1</title>\n<path fill=\"none\" stroke=\"black\" d=\"M943.88,-817.91C931.05,-808.29 917.27,-797.95 904.12,-788.09\"/>\n<polygon fill=\"black\" stroke=\"black\" points=\"906.13,-785.22 896.03,-782.02 901.93,-790.82 906.13,-785.22\"/>\n<text text-anchor=\"middle\" x=\"899.56\" y=\"-803.07\" font-family=\"Helvetica,sans-Serif\" font-size=\"14.00\">True</text>\n</g>\n<!-- 26 -->\n<g id=\"node27\" class=\"node\">\n<title>26</title>\n<path fill=\"#84efb1\" stroke=\"black\" d=\"M1291,-782C1291,-782 1019,-782 1019,-782 1013,-782 1007,-776 1007,-770 1007,-770 1007,-711 1007,-711 1007,-705 1013,-699 1019,-699 1019,-699 1291,-699 1291,-699 1297,-699 1303,-705 1303,-711 1303,-711 1303,-770 1303,-770 1303,-776 1297,-782 1291,-782\"/>\n<text text-anchor=\"middle\" x=\"1155\" y=\"-766.8\" font-family=\"Helvetica,sans-Serif\" font-size=\"14.00\">TEXTURE_GLSZM_ED_T1Gd_ZSN &lt;= 0.334</text>\n<text text-anchor=\"middle\" x=\"1155\" y=\"-751.8\" font-family=\"Helvetica,sans-Serif\" font-size=\"14.00\">gini = 0.486</text>\n<text text-anchor=\"middle\" x=\"1155\" y=\"-736.8\" font-family=\"Helvetica,sans-Serif\" font-size=\"14.00\">samples = 25</text>\n<text text-anchor=\"middle\" x=\"1155\" y=\"-721.8\" font-family=\"Helvetica,sans-Serif\" font-size=\"14.00\">value = [4, 17, 4]</text>\n<text text-anchor=\"middle\" x=\"1155\" y=\"-706.8\" font-family=\"Helvetica,sans-Serif\" font-size=\"14.00\">class = LOW</text>\n</g>\n<!-- 0&#45;&gt;26 -->\n<g id=\"edge26\" class=\"edge\">\n<title>0&#45;&gt;26</title>\n<path fill=\"none\" stroke=\"black\" d=\"M1052.47,-817.91C1065.38,-808.29 1079.25,-797.95 1092.48,-788.09\"/>\n<polygon fill=\"black\" stroke=\"black\" points=\"1094.7,-790.8 1100.63,-782.02 1090.52,-785.19 1094.7,-790.8\"/>\n<text text-anchor=\"middle\" x=\"1097.01\" y=\"-803.06\" font-family=\"Helvetica,sans-Serif\" font-size=\"14.00\">False</text>\n</g>\n<!-- 2 -->\n<g id=\"node3\" class=\"node\">\n<title>2</title>\n<path fill=\"#f4caac\" stroke=\"black\" d=\"M653.5,-663C653.5,-663 468.5,-663 468.5,-663 462.5,-663 456.5,-657 456.5,-651 456.5,-651 456.5,-592 456.5,-592 456.5,-586 462.5,-580 468.5,-580 468.5,-580 653.5,-580 653.5,-580 659.5,-580 665.5,-586 665.5,-592 665.5,-592 665.5,-651 665.5,-651 665.5,-657 659.5,-663 653.5,-663\"/>\n<text text-anchor=\"middle\" x=\"561\" y=\"-647.8\" font-family=\"Helvetica,sans-Serif\" font-size=\"14.00\">HISTO_NET_T2_Bin9 &lt;= 6.348</text>\n<text text-anchor=\"middle\" x=\"561\" y=\"-632.8\" font-family=\"Helvetica,sans-Serif\" font-size=\"14.00\">gini = 0.549</text>\n<text text-anchor=\"middle\" x=\"561\" y=\"-617.8\" font-family=\"Helvetica,sans-Serif\" font-size=\"14.00\">samples = 27</text>\n<text text-anchor=\"middle\" x=\"561\" y=\"-602.8\" font-family=\"Helvetica,sans-Serif\" font-size=\"14.00\">value = [16, 8, 3]</text>\n<text text-anchor=\"middle\" x=\"561\" y=\"-587.8\" font-family=\"Helvetica,sans-Serif\" font-size=\"14.00\">class = HIGH</text>\n</g>\n<!-- 1&#45;&gt;2 -->\n<g id=\"edge2\" class=\"edge\">\n<title>1&#45;&gt;2</title>\n<path fill=\"none\" stroke=\"black\" d=\"M744.51,-698.91C719.66,-688.56 692.83,-677.39 667.55,-666.87\"/>\n<polygon fill=\"black\" stroke=\"black\" points=\"668.9,-663.63 658.32,-663.02 666.21,-670.1 668.9,-663.63\"/>\n</g>\n<!-- 17 -->\n<g id=\"node18\" class=\"node\">\n<title>17</title>\n<path fill=\"#b185ef\" stroke=\"black\" d=\"M1001,-663C1001,-663 729,-663 729,-663 723,-663 717,-657 717,-651 717,-651 717,-592 717,-592 717,-586 723,-580 729,-580 729,-580 1001,-580 1001,-580 1007,-580 1013,-586 1013,-592 1013,-592 1013,-651 1013,-651 1013,-657 1007,-663 1001,-663\"/>\n<text text-anchor=\"middle\" x=\"865\" y=\"-647.8\" font-family=\"Helvetica,sans-Serif\" font-size=\"14.00\">TEXTURE_GLSZM_ED_T1Gd_ZSN &lt;= 0.375</text>\n<text text-anchor=\"middle\" x=\"865\" y=\"-632.8\" font-family=\"Helvetica,sans-Serif\" font-size=\"14.00\">gini = 0.477</text>\n<text text-anchor=\"middle\" x=\"865\" y=\"-617.8\" font-family=\"Helvetica,sans-Serif\" font-size=\"14.00\">samples = 16</text>\n<text text-anchor=\"middle\" x=\"865\" y=\"-602.8\" font-family=\"Helvetica,sans-Serif\" font-size=\"14.00\">value = [3, 2, 11]</text>\n<text text-anchor=\"middle\" x=\"865\" y=\"-587.8\" font-family=\"Helvetica,sans-Serif\" font-size=\"14.00\">class = MID</text>\n</g>\n<!-- 1&#45;&gt;17 -->\n<g id=\"edge17\" class=\"edge\">\n<title>1&#45;&gt;17</title>\n<path fill=\"none\" stroke=\"black\" d=\"M849.98,-698.91C851.62,-690.56 853.37,-681.67 855.07,-673.02\"/>\n<polygon fill=\"black\" stroke=\"black\" points=\"858.54,-673.51 857.03,-663.02 851.67,-672.16 858.54,-673.51\"/>\n</g>\n<!-- 3 -->\n<g id=\"node4\" class=\"node\">\n<title>3</title>\n<path fill=\"#b5f5d0\" stroke=\"black\" d=\"M392,-544C392,-544 306,-544 306,-544 300,-544 294,-538 294,-532 294,-532 294,-473 294,-473 294,-467 300,-461 306,-461 306,-461 392,-461 392,-461 398,-461 404,-467 404,-473 404,-473 404,-532 404,-532 404,-538 398,-544 392,-544\"/>\n<text text-anchor=\"middle\" x=\"349\" y=\"-528.8\" font-family=\"Helvetica,sans-Serif\" font-size=\"14.00\">Age &lt;= 41.629</text>\n<text text-anchor=\"middle\" x=\"349\" y=\"-513.8\" font-family=\"Helvetica,sans-Serif\" font-size=\"14.00\">gini = 0.595</text>\n<text text-anchor=\"middle\" x=\"349\" y=\"-498.8\" font-family=\"Helvetica,sans-Serif\" font-size=\"14.00\">samples = 11</text>\n<text text-anchor=\"middle\" x=\"349\" y=\"-483.8\" font-family=\"Helvetica,sans-Serif\" font-size=\"14.00\">value = [3, 6, 2]</text>\n<text text-anchor=\"middle\" x=\"349\" y=\"-468.8\" font-family=\"Helvetica,sans-Serif\" font-size=\"14.00\">class = LOW</text>\n</g>\n<!-- 2&#45;&gt;3 -->\n<g id=\"edge3\" class=\"edge\">\n<title>2&#45;&gt;3</title>\n<path fill=\"none\" stroke=\"black\" d=\"M479.28,-579.87C457.53,-568.62 434.2,-556.16 413,-544 412.91,-543.95 412.82,-543.9 412.73,-543.85\"/>\n<polygon fill=\"black\" stroke=\"black\" points=\"414.72,-540.95 404.32,-538.92 411.18,-547 414.72,-540.95\"/>\n</g>\n<!-- 12 -->\n<g id=\"node13\" class=\"node\">\n<title>12</title>\n<path fill=\"#eb9c63\" stroke=\"black\" d=\"M688,-544C688,-544 434,-544 434,-544 428,-544 422,-538 422,-532 422,-532 422,-473 422,-473 422,-467 428,-461 434,-461 434,-461 688,-461 688,-461 694,-461 700,-467 700,-473 700,-473 700,-532 700,-532 700,-538 694,-544 688,-544\"/>\n<text text-anchor=\"middle\" x=\"561\" y=\"-528.8\" font-family=\"Helvetica,sans-Serif\" font-size=\"14.00\">TEXTURE_GLRLM_ED_T2_GLN &lt;= 0.016</text>\n<text text-anchor=\"middle\" x=\"561\" y=\"-513.8\" font-family=\"Helvetica,sans-Serif\" font-size=\"14.00\">gini = 0.32</text>\n<text text-anchor=\"middle\" x=\"561\" y=\"-498.8\" font-family=\"Helvetica,sans-Serif\" font-size=\"14.00\">samples = 16</text>\n<text text-anchor=\"middle\" x=\"561\" y=\"-483.8\" font-family=\"Helvetica,sans-Serif\" font-size=\"14.00\">value = [13, 2, 1]</text>\n<text text-anchor=\"middle\" x=\"561\" y=\"-468.8\" font-family=\"Helvetica,sans-Serif\" font-size=\"14.00\">class = HIGH</text>\n</g>\n<!-- 2&#45;&gt;12 -->\n<g id=\"edge12\" class=\"edge\">\n<title>2&#45;&gt;12</title>\n<path fill=\"none\" stroke=\"black\" d=\"M561,-579.91C561,-571.65 561,-562.86 561,-554.3\"/>\n<polygon fill=\"black\" stroke=\"black\" points=\"564.5,-554.02 561,-544.02 557.5,-554.02 564.5,-554.02\"/>\n</g>\n<!-- 4 -->\n<g id=\"node5\" class=\"node\">\n<title>4</title>\n<path fill=\"#8139e5\" stroke=\"black\" d=\"M266,-417.5C266,-417.5 180,-417.5 180,-417.5 174,-417.5 168,-411.5 168,-405.5 168,-405.5 168,-361.5 168,-361.5 168,-355.5 174,-349.5 180,-349.5 180,-349.5 266,-349.5 266,-349.5 272,-349.5 278,-355.5 278,-361.5 278,-361.5 278,-405.5 278,-405.5 278,-411.5 272,-417.5 266,-417.5\"/>\n<text text-anchor=\"middle\" x=\"223\" y=\"-402.3\" font-family=\"Helvetica,sans-Serif\" font-size=\"14.00\">gini = 0.0</text>\n<text text-anchor=\"middle\" x=\"223\" y=\"-387.3\" font-family=\"Helvetica,sans-Serif\" font-size=\"14.00\">samples = 2</text>\n<text text-anchor=\"middle\" x=\"223\" y=\"-372.3\" font-family=\"Helvetica,sans-Serif\" font-size=\"14.00\">value = [0, 0, 2]</text>\n<text text-anchor=\"middle\" x=\"223\" y=\"-357.3\" font-family=\"Helvetica,sans-Serif\" font-size=\"14.00\">class = MID</text>\n</g>\n<!-- 3&#45;&gt;4 -->\n<g id=\"edge4\" class=\"edge\">\n<title>3&#45;&gt;4</title>\n<path fill=\"none\" stroke=\"black\" d=\"M305.28,-460.91C292.69,-449.21 278.95,-436.46 266.38,-424.78\"/>\n<polygon fill=\"black\" stroke=\"black\" points=\"268.43,-421.91 258.72,-417.67 263.66,-427.04 268.43,-421.91\"/>\n</g>\n<!-- 5 -->\n<g id=\"node6\" class=\"node\">\n<title>5</title>\n<path fill=\"#9cf2c0\" stroke=\"black\" d=\"M394,-425C394,-425 308,-425 308,-425 302,-425 296,-419 296,-413 296,-413 296,-354 296,-354 296,-348 302,-342 308,-342 308,-342 394,-342 394,-342 400,-342 406,-348 406,-354 406,-354 406,-413 406,-413 406,-419 400,-425 394,-425\"/>\n<text text-anchor=\"middle\" x=\"351\" y=\"-409.8\" font-family=\"Helvetica,sans-Serif\" font-size=\"14.00\">Age &lt;= 51.129</text>\n<text text-anchor=\"middle\" x=\"351\" y=\"-394.8\" font-family=\"Helvetica,sans-Serif\" font-size=\"14.00\">gini = 0.444</text>\n<text text-anchor=\"middle\" x=\"351\" y=\"-379.8\" font-family=\"Helvetica,sans-Serif\" font-size=\"14.00\">samples = 9</text>\n<text text-anchor=\"middle\" x=\"351\" y=\"-364.8\" font-family=\"Helvetica,sans-Serif\" font-size=\"14.00\">value = [3, 6, 0]</text>\n<text text-anchor=\"middle\" x=\"351\" y=\"-349.8\" font-family=\"Helvetica,sans-Serif\" font-size=\"14.00\">class = LOW</text>\n</g>\n<!-- 3&#45;&gt;5 -->\n<g id=\"edge5\" class=\"edge\">\n<title>3&#45;&gt;5</title>\n<path fill=\"none\" stroke=\"black\" d=\"M349.69,-460.91C349.84,-452.56 349.99,-443.67 350.14,-435.02\"/>\n<polygon fill=\"black\" stroke=\"black\" points=\"353.64,-435.08 350.31,-425.02 346.64,-434.96 353.64,-435.08\"/>\n</g>\n<!-- 6 -->\n<g id=\"node7\" class=\"node\">\n<title>6</title>\n<path fill=\"#f6d5bd\" stroke=\"black\" d=\"M271,-306C271,-306 17,-306 17,-306 11,-306 5,-300 5,-294 5,-294 5,-235 5,-235 5,-229 11,-223 17,-223 17,-223 271,-223 271,-223 277,-223 283,-229 283,-235 283,-235 283,-294 283,-294 283,-300 277,-306 271,-306\"/>\n<text text-anchor=\"middle\" x=\"144\" y=\"-290.8\" font-family=\"Helvetica,sans-Serif\" font-size=\"14.00\">TEXTURE_GLRLM_ED_T2_GLN &lt;= 0.018</text>\n<text text-anchor=\"middle\" x=\"144\" y=\"-275.8\" font-family=\"Helvetica,sans-Serif\" font-size=\"14.00\">gini = 0.48</text>\n<text text-anchor=\"middle\" x=\"144\" y=\"-260.8\" font-family=\"Helvetica,sans-Serif\" font-size=\"14.00\">samples = 5</text>\n<text text-anchor=\"middle\" x=\"144\" y=\"-245.8\" font-family=\"Helvetica,sans-Serif\" font-size=\"14.00\">value = [3, 2, 0]</text>\n<text text-anchor=\"middle\" x=\"144\" y=\"-230.8\" font-family=\"Helvetica,sans-Serif\" font-size=\"14.00\">class = HIGH</text>\n</g>\n<!-- 5&#45;&gt;6 -->\n<g id=\"edge6\" class=\"edge\">\n<title>5&#45;&gt;6</title>\n<path fill=\"none\" stroke=\"black\" d=\"M296,-347.34C292.97,-345.51 289.95,-343.72 287,-342 269.23,-331.64 249.96,-320.97 231.49,-311\"/>\n<polygon fill=\"black\" stroke=\"black\" points=\"232.96,-307.82 222.5,-306.17 229.65,-313.98 232.96,-307.82\"/>\n</g>\n<!-- 11 -->\n<g id=\"node12\" class=\"node\">\n<title>11</title>\n<path fill=\"#39e581\" stroke=\"black\" d=\"M399,-298.5C399,-298.5 313,-298.5 313,-298.5 307,-298.5 301,-292.5 301,-286.5 301,-286.5 301,-242.5 301,-242.5 301,-236.5 307,-230.5 313,-230.5 313,-230.5 399,-230.5 399,-230.5 405,-230.5 411,-236.5 411,-242.5 411,-242.5 411,-286.5 411,-286.5 411,-292.5 405,-298.5 399,-298.5\"/>\n<text text-anchor=\"middle\" x=\"356\" y=\"-283.3\" font-family=\"Helvetica,sans-Serif\" font-size=\"14.00\">gini = 0.0</text>\n<text text-anchor=\"middle\" x=\"356\" y=\"-268.3\" font-family=\"Helvetica,sans-Serif\" font-size=\"14.00\">samples = 4</text>\n<text text-anchor=\"middle\" x=\"356\" y=\"-253.3\" font-family=\"Helvetica,sans-Serif\" font-size=\"14.00\">value = [0, 4, 0]</text>\n<text text-anchor=\"middle\" x=\"356\" y=\"-238.3\" font-family=\"Helvetica,sans-Serif\" font-size=\"14.00\">class = LOW</text>\n</g>\n<!-- 5&#45;&gt;11 -->\n<g id=\"edge11\" class=\"edge\">\n<title>5&#45;&gt;11</title>\n<path fill=\"none\" stroke=\"black\" d=\"M352.73,-341.91C353.19,-331.2 353.69,-319.62 354.15,-308.78\"/>\n<polygon fill=\"black\" stroke=\"black\" points=\"357.65,-308.81 354.58,-298.67 350.66,-308.51 357.65,-308.81\"/>\n</g>\n<!-- 7 -->\n<g id=\"node8\" class=\"node\">\n<title>7</title>\n<path fill=\"#e58139\" stroke=\"black\" d=\"M98,-179.5C98,-179.5 12,-179.5 12,-179.5 6,-179.5 0,-173.5 0,-167.5 0,-167.5 0,-123.5 0,-123.5 0,-117.5 6,-111.5 12,-111.5 12,-111.5 98,-111.5 98,-111.5 104,-111.5 110,-117.5 110,-123.5 110,-123.5 110,-167.5 110,-167.5 110,-173.5 104,-179.5 98,-179.5\"/>\n<text text-anchor=\"middle\" x=\"55\" y=\"-164.3\" font-family=\"Helvetica,sans-Serif\" font-size=\"14.00\">gini = 0.0</text>\n<text text-anchor=\"middle\" x=\"55\" y=\"-149.3\" font-family=\"Helvetica,sans-Serif\" font-size=\"14.00\">samples = 2</text>\n<text text-anchor=\"middle\" x=\"55\" y=\"-134.3\" font-family=\"Helvetica,sans-Serif\" font-size=\"14.00\">value = [2, 0, 0]</text>\n<text text-anchor=\"middle\" x=\"55\" y=\"-119.3\" font-family=\"Helvetica,sans-Serif\" font-size=\"14.00\">class = HIGH</text>\n</g>\n<!-- 6&#45;&gt;7 -->\n<g id=\"edge7\" class=\"edge\">\n<title>6&#45;&gt;7</title>\n<path fill=\"none\" stroke=\"black\" d=\"M113.12,-222.91C104.48,-211.54 95.07,-199.18 86.4,-187.77\"/>\n<polygon fill=\"black\" stroke=\"black\" points=\"89.07,-185.51 80.23,-179.67 83.5,-189.74 89.07,-185.51\"/>\n</g>\n<!-- 8 -->\n<g id=\"node9\" class=\"node\">\n<title>8</title>\n<path fill=\"#9cf2c0\" stroke=\"black\" d=\"M325.5,-187C325.5,-187 140.5,-187 140.5,-187 134.5,-187 128.5,-181 128.5,-175 128.5,-175 128.5,-116 128.5,-116 128.5,-110 134.5,-104 140.5,-104 140.5,-104 325.5,-104 325.5,-104 331.5,-104 337.5,-110 337.5,-116 337.5,-116 337.5,-175 337.5,-175 337.5,-181 331.5,-187 325.5,-187\"/>\n<text text-anchor=\"middle\" x=\"233\" y=\"-171.8\" font-family=\"Helvetica,sans-Serif\" font-size=\"14.00\">HISTO_NET_T2_Bin9 &lt;= 4.338</text>\n<text text-anchor=\"middle\" x=\"233\" y=\"-156.8\" font-family=\"Helvetica,sans-Serif\" font-size=\"14.00\">gini = 0.444</text>\n<text text-anchor=\"middle\" x=\"233\" y=\"-141.8\" font-family=\"Helvetica,sans-Serif\" font-size=\"14.00\">samples = 3</text>\n<text text-anchor=\"middle\" x=\"233\" y=\"-126.8\" font-family=\"Helvetica,sans-Serif\" font-size=\"14.00\">value = [1, 2, 0]</text>\n<text text-anchor=\"middle\" x=\"233\" y=\"-111.8\" font-family=\"Helvetica,sans-Serif\" font-size=\"14.00\">class = LOW</text>\n</g>\n<!-- 6&#45;&gt;8 -->\n<g id=\"edge8\" class=\"edge\">\n<title>6&#45;&gt;8</title>\n<path fill=\"none\" stroke=\"black\" d=\"M174.88,-222.91C181.71,-213.92 189.02,-204.32 196.07,-195.05\"/>\n<polygon fill=\"black\" stroke=\"black\" points=\"198.91,-197.1 202.18,-187.02 193.34,-192.86 198.91,-197.1\"/>\n</g>\n<!-- 9 -->\n<g id=\"node10\" class=\"node\">\n<title>9</title>\n<path fill=\"#39e581\" stroke=\"black\" d=\"M212,-68C212,-68 126,-68 126,-68 120,-68 114,-62 114,-56 114,-56 114,-12 114,-12 114,-6 120,0 126,0 126,0 212,0 212,0 218,0 224,-6 224,-12 224,-12 224,-56 224,-56 224,-62 218,-68 212,-68\"/>\n<text text-anchor=\"middle\" x=\"169\" y=\"-52.8\" font-family=\"Helvetica,sans-Serif\" font-size=\"14.00\">gini = 0.0</text>\n<text text-anchor=\"middle\" x=\"169\" y=\"-37.8\" font-family=\"Helvetica,sans-Serif\" font-size=\"14.00\">samples = 2</text>\n<text text-anchor=\"middle\" x=\"169\" y=\"-22.8\" font-family=\"Helvetica,sans-Serif\" font-size=\"14.00\">value = [0, 2, 0]</text>\n<text text-anchor=\"middle\" x=\"169\" y=\"-7.8\" font-family=\"Helvetica,sans-Serif\" font-size=\"14.00\">class = LOW</text>\n</g>\n<!-- 8&#45;&gt;9 -->\n<g id=\"edge9\" class=\"edge\">\n<title>8&#45;&gt;9</title>\n<path fill=\"none\" stroke=\"black\" d=\"M209.17,-103.73C204.1,-95.06 198.75,-85.9 193.65,-77.18\"/>\n<polygon fill=\"black\" stroke=\"black\" points=\"196.53,-75.17 188.46,-68.3 190.49,-78.7 196.53,-75.17\"/>\n</g>\n<!-- 10 -->\n<g id=\"node11\" class=\"node\">\n<title>10</title>\n<path fill=\"#e58139\" stroke=\"black\" d=\"M340,-68C340,-68 254,-68 254,-68 248,-68 242,-62 242,-56 242,-56 242,-12 242,-12 242,-6 248,0 254,0 254,0 340,0 340,0 346,0 352,-6 352,-12 352,-12 352,-56 352,-56 352,-62 346,-68 340,-68\"/>\n<text text-anchor=\"middle\" x=\"297\" y=\"-52.8\" font-family=\"Helvetica,sans-Serif\" font-size=\"14.00\">gini = 0.0</text>\n<text text-anchor=\"middle\" x=\"297\" y=\"-37.8\" font-family=\"Helvetica,sans-Serif\" font-size=\"14.00\">samples = 1</text>\n<text text-anchor=\"middle\" x=\"297\" y=\"-22.8\" font-family=\"Helvetica,sans-Serif\" font-size=\"14.00\">value = [1, 0, 0]</text>\n<text text-anchor=\"middle\" x=\"297\" y=\"-7.8\" font-family=\"Helvetica,sans-Serif\" font-size=\"14.00\">class = HIGH</text>\n</g>\n<!-- 8&#45;&gt;10 -->\n<g id=\"edge10\" class=\"edge\">\n<title>8&#45;&gt;10</title>\n<path fill=\"none\" stroke=\"black\" d=\"M256.83,-103.73C261.9,-95.06 267.25,-85.9 272.35,-77.18\"/>\n<polygon fill=\"black\" stroke=\"black\" points=\"275.51,-78.7 277.54,-68.3 269.47,-75.17 275.51,-78.7\"/>\n</g>\n<!-- 13 -->\n<g id=\"node14\" class=\"node\">\n<title>13</title>\n<path fill=\"#9cf2c0\" stroke=\"black\" d=\"M573,-425C573,-425 487,-425 487,-425 481,-425 475,-419 475,-413 475,-413 475,-354 475,-354 475,-348 481,-342 487,-342 487,-342 573,-342 573,-342 579,-342 585,-348 585,-354 585,-354 585,-413 585,-413 585,-419 579,-425 573,-425\"/>\n<text text-anchor=\"middle\" x=\"530\" y=\"-409.8\" font-family=\"Helvetica,sans-Serif\" font-size=\"14.00\">Age &lt;= 60.156</text>\n<text text-anchor=\"middle\" x=\"530\" y=\"-394.8\" font-family=\"Helvetica,sans-Serif\" font-size=\"14.00\">gini = 0.444</text>\n<text text-anchor=\"middle\" x=\"530\" y=\"-379.8\" font-family=\"Helvetica,sans-Serif\" font-size=\"14.00\">samples = 3</text>\n<text text-anchor=\"middle\" x=\"530\" y=\"-364.8\" font-family=\"Helvetica,sans-Serif\" font-size=\"14.00\">value = [0, 2, 1]</text>\n<text text-anchor=\"middle\" x=\"530\" y=\"-349.8\" font-family=\"Helvetica,sans-Serif\" font-size=\"14.00\">class = LOW</text>\n</g>\n<!-- 12&#45;&gt;13 -->\n<g id=\"edge13\" class=\"edge\">\n<title>12&#45;&gt;13</title>\n<path fill=\"none\" stroke=\"black\" d=\"M550.24,-460.91C548.01,-452.47 545.63,-443.48 543.31,-434.74\"/>\n<polygon fill=\"black\" stroke=\"black\" points=\"546.68,-433.79 540.74,-425.02 539.91,-435.58 546.68,-433.79\"/>\n</g>\n<!-- 16 -->\n<g id=\"node17\" class=\"node\">\n<title>16</title>\n<path fill=\"#e58139\" stroke=\"black\" d=\"M708.5,-417.5C708.5,-417.5 615.5,-417.5 615.5,-417.5 609.5,-417.5 603.5,-411.5 603.5,-405.5 603.5,-405.5 603.5,-361.5 603.5,-361.5 603.5,-355.5 609.5,-349.5 615.5,-349.5 615.5,-349.5 708.5,-349.5 708.5,-349.5 714.5,-349.5 720.5,-355.5 720.5,-361.5 720.5,-361.5 720.5,-405.5 720.5,-405.5 720.5,-411.5 714.5,-417.5 708.5,-417.5\"/>\n<text text-anchor=\"middle\" x=\"662\" y=\"-402.3\" font-family=\"Helvetica,sans-Serif\" font-size=\"14.00\">gini = 0.0</text>\n<text text-anchor=\"middle\" x=\"662\" y=\"-387.3\" font-family=\"Helvetica,sans-Serif\" font-size=\"14.00\">samples = 13</text>\n<text text-anchor=\"middle\" x=\"662\" y=\"-372.3\" font-family=\"Helvetica,sans-Serif\" font-size=\"14.00\">value = [13, 0, 0]</text>\n<text text-anchor=\"middle\" x=\"662\" y=\"-357.3\" font-family=\"Helvetica,sans-Serif\" font-size=\"14.00\">class = HIGH</text>\n</g>\n<!-- 12&#45;&gt;16 -->\n<g id=\"edge16\" class=\"edge\">\n<title>12&#45;&gt;16</title>\n<path fill=\"none\" stroke=\"black\" d=\"M596.04,-460.91C605.95,-449.43 616.73,-436.94 626.66,-425.44\"/>\n<polygon fill=\"black\" stroke=\"black\" points=\"629.48,-427.52 633.37,-417.67 624.18,-422.95 629.48,-427.52\"/>\n</g>\n<!-- 14 -->\n<g id=\"node15\" class=\"node\">\n<title>14</title>\n<path fill=\"#39e581\" stroke=\"black\" d=\"M546,-298.5C546,-298.5 460,-298.5 460,-298.5 454,-298.5 448,-292.5 448,-286.5 448,-286.5 448,-242.5 448,-242.5 448,-236.5 454,-230.5 460,-230.5 460,-230.5 546,-230.5 546,-230.5 552,-230.5 558,-236.5 558,-242.5 558,-242.5 558,-286.5 558,-286.5 558,-292.5 552,-298.5 546,-298.5\"/>\n<text text-anchor=\"middle\" x=\"503\" y=\"-283.3\" font-family=\"Helvetica,sans-Serif\" font-size=\"14.00\">gini = 0.0</text>\n<text text-anchor=\"middle\" x=\"503\" y=\"-268.3\" font-family=\"Helvetica,sans-Serif\" font-size=\"14.00\">samples = 2</text>\n<text text-anchor=\"middle\" x=\"503\" y=\"-253.3\" font-family=\"Helvetica,sans-Serif\" font-size=\"14.00\">value = [0, 2, 0]</text>\n<text text-anchor=\"middle\" x=\"503\" y=\"-238.3\" font-family=\"Helvetica,sans-Serif\" font-size=\"14.00\">class = LOW</text>\n</g>\n<!-- 13&#45;&gt;14 -->\n<g id=\"edge14\" class=\"edge\">\n<title>13&#45;&gt;14</title>\n<path fill=\"none\" stroke=\"black\" d=\"M520.63,-341.91C518.14,-331.09 515.43,-319.38 512.91,-308.44\"/>\n<polygon fill=\"black\" stroke=\"black\" points=\"516.31,-307.62 510.65,-298.67 509.49,-309.2 516.31,-307.62\"/>\n</g>\n<!-- 15 -->\n<g id=\"node16\" class=\"node\">\n<title>15</title>\n<path fill=\"#8139e5\" stroke=\"black\" d=\"M674,-298.5C674,-298.5 588,-298.5 588,-298.5 582,-298.5 576,-292.5 576,-286.5 576,-286.5 576,-242.5 576,-242.5 576,-236.5 582,-230.5 588,-230.5 588,-230.5 674,-230.5 674,-230.5 680,-230.5 686,-236.5 686,-242.5 686,-242.5 686,-286.5 686,-286.5 686,-292.5 680,-298.5 674,-298.5\"/>\n<text text-anchor=\"middle\" x=\"631\" y=\"-283.3\" font-family=\"Helvetica,sans-Serif\" font-size=\"14.00\">gini = 0.0</text>\n<text text-anchor=\"middle\" x=\"631\" y=\"-268.3\" font-family=\"Helvetica,sans-Serif\" font-size=\"14.00\">samples = 1</text>\n<text text-anchor=\"middle\" x=\"631\" y=\"-253.3\" font-family=\"Helvetica,sans-Serif\" font-size=\"14.00\">value = [0, 0, 1]</text>\n<text text-anchor=\"middle\" x=\"631\" y=\"-238.3\" font-family=\"Helvetica,sans-Serif\" font-size=\"14.00\">class = MID</text>\n</g>\n<!-- 13&#45;&gt;15 -->\n<g id=\"edge15\" class=\"edge\">\n<title>13&#45;&gt;15</title>\n<path fill=\"none\" stroke=\"black\" d=\"M565.04,-341.91C574.95,-330.43 585.73,-317.94 595.66,-306.44\"/>\n<polygon fill=\"black\" stroke=\"black\" points=\"598.48,-308.52 602.37,-298.67 593.18,-303.95 598.48,-308.52\"/>\n</g>\n<!-- 18 -->\n<g id=\"node19\" class=\"node\">\n<title>18</title>\n<path fill=\"#eadefb\" stroke=\"black\" d=\"M1000,-544C1000,-544 730,-544 730,-544 724,-544 718,-538 718,-532 718,-532 718,-473 718,-473 718,-467 724,-461 730,-461 730,-461 1000,-461 1000,-461 1006,-461 1012,-467 1012,-473 1012,-473 1012,-532 1012,-532 1012,-538 1006,-544 1000,-544\"/>\n<text text-anchor=\"middle\" x=\"865\" y=\"-528.8\" font-family=\"Helvetica,sans-Serif\" font-size=\"14.00\">TEXTURE_GLSZM_NET_T2_LGZE &lt;= 0.025</text>\n<text text-anchor=\"middle\" x=\"865\" y=\"-513.8\" font-family=\"Helvetica,sans-Serif\" font-size=\"14.00\">gini = 0.642</text>\n<text text-anchor=\"middle\" x=\"865\" y=\"-498.8\" font-family=\"Helvetica,sans-Serif\" font-size=\"14.00\">samples = 9</text>\n<text text-anchor=\"middle\" x=\"865\" y=\"-483.8\" font-family=\"Helvetica,sans-Serif\" font-size=\"14.00\">value = [3, 2, 4]</text>\n<text text-anchor=\"middle\" x=\"865\" y=\"-468.8\" font-family=\"Helvetica,sans-Serif\" font-size=\"14.00\">class = MID</text>\n</g>\n<!-- 17&#45;&gt;18 -->\n<g id=\"edge18\" class=\"edge\">\n<title>17&#45;&gt;18</title>\n<path fill=\"none\" stroke=\"black\" d=\"M865,-579.91C865,-571.65 865,-562.86 865,-554.3\"/>\n<polygon fill=\"black\" stroke=\"black\" points=\"868.5,-554.02 865,-544.02 861.5,-554.02 868.5,-554.02\"/>\n</g>\n<!-- 25 -->\n<g id=\"node26\" class=\"node\">\n<title>25</title>\n<path fill=\"#8139e5\" stroke=\"black\" d=\"M1128,-536.5C1128,-536.5 1042,-536.5 1042,-536.5 1036,-536.5 1030,-530.5 1030,-524.5 1030,-524.5 1030,-480.5 1030,-480.5 1030,-474.5 1036,-468.5 1042,-468.5 1042,-468.5 1128,-468.5 1128,-468.5 1134,-468.5 1140,-474.5 1140,-480.5 1140,-480.5 1140,-524.5 1140,-524.5 1140,-530.5 1134,-536.5 1128,-536.5\"/>\n<text text-anchor=\"middle\" x=\"1085\" y=\"-521.3\" font-family=\"Helvetica,sans-Serif\" font-size=\"14.00\">gini = 0.0</text>\n<text text-anchor=\"middle\" x=\"1085\" y=\"-506.3\" font-family=\"Helvetica,sans-Serif\" font-size=\"14.00\">samples = 7</text>\n<text text-anchor=\"middle\" x=\"1085\" y=\"-491.3\" font-family=\"Helvetica,sans-Serif\" font-size=\"14.00\">value = [0, 0, 7]</text>\n<text text-anchor=\"middle\" x=\"1085\" y=\"-476.3\" font-family=\"Helvetica,sans-Serif\" font-size=\"14.00\">class = MID</text>\n</g>\n<!-- 17&#45;&gt;25 -->\n<g id=\"edge25\" class=\"edge\">\n<title>17&#45;&gt;25</title>\n<path fill=\"none\" stroke=\"black\" d=\"M952.1,-579.86C974.78,-568.71 999.02,-556.3 1021,-544 1022.29,-543.28 1023.59,-542.54 1024.9,-541.79\"/>\n<polygon fill=\"black\" stroke=\"black\" points=\"1026.73,-544.77 1033.59,-536.7 1023.2,-538.73 1026.73,-544.77\"/>\n</g>\n<!-- 19 -->\n<g id=\"node20\" class=\"node\">\n<title>19</title>\n<path fill=\"#f8e0ce\" stroke=\"black\" d=\"M906,-425C906,-425 820,-425 820,-425 814,-425 808,-419 808,-413 808,-413 808,-354 808,-354 808,-348 814,-342 820,-342 820,-342 906,-342 906,-342 912,-342 918,-348 918,-354 918,-354 918,-413 918,-413 918,-419 912,-425 906,-425\"/>\n<text text-anchor=\"middle\" x=\"863\" y=\"-409.8\" font-family=\"Helvetica,sans-Serif\" font-size=\"14.00\">Age &lt;= 58.308</text>\n<text text-anchor=\"middle\" x=\"863\" y=\"-394.8\" font-family=\"Helvetica,sans-Serif\" font-size=\"14.00\">gini = 0.611</text>\n<text text-anchor=\"middle\" x=\"863\" y=\"-379.8\" font-family=\"Helvetica,sans-Serif\" font-size=\"14.00\">samples = 6</text>\n<text text-anchor=\"middle\" x=\"863\" y=\"-364.8\" font-family=\"Helvetica,sans-Serif\" font-size=\"14.00\">value = [3, 2, 1]</text>\n<text text-anchor=\"middle\" x=\"863\" y=\"-349.8\" font-family=\"Helvetica,sans-Serif\" font-size=\"14.00\">class = HIGH</text>\n</g>\n<!-- 18&#45;&gt;19 -->\n<g id=\"edge19\" class=\"edge\">\n<title>18&#45;&gt;19</title>\n<path fill=\"none\" stroke=\"black\" d=\"M864.31,-460.91C864.16,-452.56 864.01,-443.67 863.86,-435.02\"/>\n<polygon fill=\"black\" stroke=\"black\" points=\"867.36,-434.96 863.69,-425.02 860.36,-435.08 867.36,-434.96\"/>\n</g>\n<!-- 24 -->\n<g id=\"node25\" class=\"node\">\n<title>24</title>\n<path fill=\"#8139e5\" stroke=\"black\" d=\"M1034,-417.5C1034,-417.5 948,-417.5 948,-417.5 942,-417.5 936,-411.5 936,-405.5 936,-405.5 936,-361.5 936,-361.5 936,-355.5 942,-349.5 948,-349.5 948,-349.5 1034,-349.5 1034,-349.5 1040,-349.5 1046,-355.5 1046,-361.5 1046,-361.5 1046,-405.5 1046,-405.5 1046,-411.5 1040,-417.5 1034,-417.5\"/>\n<text text-anchor=\"middle\" x=\"991\" y=\"-402.3\" font-family=\"Helvetica,sans-Serif\" font-size=\"14.00\">gini = 0.0</text>\n<text text-anchor=\"middle\" x=\"991\" y=\"-387.3\" font-family=\"Helvetica,sans-Serif\" font-size=\"14.00\">samples = 3</text>\n<text text-anchor=\"middle\" x=\"991\" y=\"-372.3\" font-family=\"Helvetica,sans-Serif\" font-size=\"14.00\">value = [0, 0, 3]</text>\n<text text-anchor=\"middle\" x=\"991\" y=\"-357.3\" font-family=\"Helvetica,sans-Serif\" font-size=\"14.00\">class = MID</text>\n</g>\n<!-- 18&#45;&gt;24 -->\n<g id=\"edge24\" class=\"edge\">\n<title>18&#45;&gt;24</title>\n<path fill=\"none\" stroke=\"black\" d=\"M908.72,-460.91C921.31,-449.21 935.05,-436.46 947.62,-424.78\"/>\n<polygon fill=\"black\" stroke=\"black\" points=\"950.34,-427.04 955.28,-417.67 945.57,-421.91 950.34,-427.04\"/>\n</g>\n<!-- 20 -->\n<g id=\"node21\" class=\"node\">\n<title>20</title>\n<path fill=\"#eeab7b\" stroke=\"black\" d=\"M998,-306C998,-306 726,-306 726,-306 720,-306 714,-300 714,-294 714,-294 714,-235 714,-235 714,-229 720,-223 726,-223 726,-223 998,-223 998,-223 1004,-223 1010,-229 1010,-235 1010,-235 1010,-294 1010,-294 1010,-300 1004,-306 998,-306\"/>\n<text text-anchor=\"middle\" x=\"862\" y=\"-290.8\" font-family=\"Helvetica,sans-Serif\" font-size=\"14.00\">TEXTURE_GLSZM_ED_T1Gd_ZSN &lt;= 0.335</text>\n<text text-anchor=\"middle\" x=\"862\" y=\"-275.8\" font-family=\"Helvetica,sans-Serif\" font-size=\"14.00\">gini = 0.375</text>\n<text text-anchor=\"middle\" x=\"862\" y=\"-260.8\" font-family=\"Helvetica,sans-Serif\" font-size=\"14.00\">samples = 4</text>\n<text text-anchor=\"middle\" x=\"862\" y=\"-245.8\" font-family=\"Helvetica,sans-Serif\" font-size=\"14.00\">value = [3, 0, 1]</text>\n<text text-anchor=\"middle\" x=\"862\" y=\"-230.8\" font-family=\"Helvetica,sans-Serif\" font-size=\"14.00\">class = HIGH</text>\n</g>\n<!-- 19&#45;&gt;20 -->\n<g id=\"edge20\" class=\"edge\">\n<title>19&#45;&gt;20</title>\n<path fill=\"none\" stroke=\"black\" d=\"M862.65,-341.91C862.58,-333.65 862.51,-324.86 862.43,-316.3\"/>\n<polygon fill=\"black\" stroke=\"black\" points=\"865.93,-315.99 862.35,-306.02 858.93,-316.05 865.93,-315.99\"/>\n</g>\n<!-- 23 -->\n<g id=\"node24\" class=\"node\">\n<title>23</title>\n<path fill=\"#39e581\" stroke=\"black\" d=\"M1126,-298.5C1126,-298.5 1040,-298.5 1040,-298.5 1034,-298.5 1028,-292.5 1028,-286.5 1028,-286.5 1028,-242.5 1028,-242.5 1028,-236.5 1034,-230.5 1040,-230.5 1040,-230.5 1126,-230.5 1126,-230.5 1132,-230.5 1138,-236.5 1138,-242.5 1138,-242.5 1138,-286.5 1138,-286.5 1138,-292.5 1132,-298.5 1126,-298.5\"/>\n<text text-anchor=\"middle\" x=\"1083\" y=\"-283.3\" font-family=\"Helvetica,sans-Serif\" font-size=\"14.00\">gini = 0.0</text>\n<text text-anchor=\"middle\" x=\"1083\" y=\"-268.3\" font-family=\"Helvetica,sans-Serif\" font-size=\"14.00\">samples = 2</text>\n<text text-anchor=\"middle\" x=\"1083\" y=\"-253.3\" font-family=\"Helvetica,sans-Serif\" font-size=\"14.00\">value = [0, 2, 0]</text>\n<text text-anchor=\"middle\" x=\"1083\" y=\"-238.3\" font-family=\"Helvetica,sans-Serif\" font-size=\"14.00\">class = LOW</text>\n</g>\n<!-- 19&#45;&gt;23 -->\n<g id=\"edge23\" class=\"edge\">\n<title>19&#45;&gt;23</title>\n<path fill=\"none\" stroke=\"black\" d=\"M918.12,-346.71C921.1,-345.07 924.07,-343.48 927,-342 966.17,-322.17 979.83,-325.83 1019,-306 1020.53,-305.22 1022.08,-304.42 1023.62,-303.6\"/>\n<polygon fill=\"black\" stroke=\"black\" points=\"1025.46,-306.58 1032.51,-298.68 1022.07,-300.46 1025.46,-306.58\"/>\n</g>\n<!-- 21 -->\n<g id=\"node22\" class=\"node\">\n<title>21</title>\n<path fill=\"#8139e5\" stroke=\"black\" d=\"M841,-179.5C841,-179.5 755,-179.5 755,-179.5 749,-179.5 743,-173.5 743,-167.5 743,-167.5 743,-123.5 743,-123.5 743,-117.5 749,-111.5 755,-111.5 755,-111.5 841,-111.5 841,-111.5 847,-111.5 853,-117.5 853,-123.5 853,-123.5 853,-167.5 853,-167.5 853,-173.5 847,-179.5 841,-179.5\"/>\n<text text-anchor=\"middle\" x=\"798\" y=\"-164.3\" font-family=\"Helvetica,sans-Serif\" font-size=\"14.00\">gini = 0.0</text>\n<text text-anchor=\"middle\" x=\"798\" y=\"-149.3\" font-family=\"Helvetica,sans-Serif\" font-size=\"14.00\">samples = 1</text>\n<text text-anchor=\"middle\" x=\"798\" y=\"-134.3\" font-family=\"Helvetica,sans-Serif\" font-size=\"14.00\">value = [0, 0, 1]</text>\n<text text-anchor=\"middle\" x=\"798\" y=\"-119.3\" font-family=\"Helvetica,sans-Serif\" font-size=\"14.00\">class = MID</text>\n</g>\n<!-- 20&#45;&gt;21 -->\n<g id=\"edge21\" class=\"edge\">\n<title>20&#45;&gt;21</title>\n<path fill=\"none\" stroke=\"black\" d=\"M839.8,-222.91C833.76,-211.87 827.21,-199.9 821.12,-188.77\"/>\n<polygon fill=\"black\" stroke=\"black\" points=\"824.01,-186.76 816.14,-179.67 817.87,-190.12 824.01,-186.76\"/>\n</g>\n<!-- 22 -->\n<g id=\"node23\" class=\"node\">\n<title>22</title>\n<path fill=\"#e58139\" stroke=\"black\" d=\"M969,-179.5C969,-179.5 883,-179.5 883,-179.5 877,-179.5 871,-173.5 871,-167.5 871,-167.5 871,-123.5 871,-123.5 871,-117.5 877,-111.5 883,-111.5 883,-111.5 969,-111.5 969,-111.5 975,-111.5 981,-117.5 981,-123.5 981,-123.5 981,-167.5 981,-167.5 981,-173.5 975,-179.5 969,-179.5\"/>\n<text text-anchor=\"middle\" x=\"926\" y=\"-164.3\" font-family=\"Helvetica,sans-Serif\" font-size=\"14.00\">gini = 0.0</text>\n<text text-anchor=\"middle\" x=\"926\" y=\"-149.3\" font-family=\"Helvetica,sans-Serif\" font-size=\"14.00\">samples = 3</text>\n<text text-anchor=\"middle\" x=\"926\" y=\"-134.3\" font-family=\"Helvetica,sans-Serif\" font-size=\"14.00\">value = [3, 0, 0]</text>\n<text text-anchor=\"middle\" x=\"926\" y=\"-119.3\" font-family=\"Helvetica,sans-Serif\" font-size=\"14.00\">class = HIGH</text>\n</g>\n<!-- 20&#45;&gt;22 -->\n<g id=\"edge22\" class=\"edge\">\n<title>20&#45;&gt;22</title>\n<path fill=\"none\" stroke=\"black\" d=\"M884.2,-222.91C890.24,-211.87 896.79,-199.9 902.88,-188.77\"/>\n<polygon fill=\"black\" stroke=\"black\" points=\"906.13,-190.12 907.86,-179.67 899.99,-186.76 906.13,-190.12\"/>\n</g>\n<!-- 27 -->\n<g id=\"node28\" class=\"node\">\n<title>27</title>\n<path fill=\"#8139e5\" stroke=\"black\" d=\"M1175,-655.5C1175,-655.5 1089,-655.5 1089,-655.5 1083,-655.5 1077,-649.5 1077,-643.5 1077,-643.5 1077,-599.5 1077,-599.5 1077,-593.5 1083,-587.5 1089,-587.5 1089,-587.5 1175,-587.5 1175,-587.5 1181,-587.5 1187,-593.5 1187,-599.5 1187,-599.5 1187,-643.5 1187,-643.5 1187,-649.5 1181,-655.5 1175,-655.5\"/>\n<text text-anchor=\"middle\" x=\"1132\" y=\"-640.3\" font-family=\"Helvetica,sans-Serif\" font-size=\"14.00\">gini = 0.0</text>\n<text text-anchor=\"middle\" x=\"1132\" y=\"-625.3\" font-family=\"Helvetica,sans-Serif\" font-size=\"14.00\">samples = 3</text>\n<text text-anchor=\"middle\" x=\"1132\" y=\"-610.3\" font-family=\"Helvetica,sans-Serif\" font-size=\"14.00\">value = [0, 0, 3]</text>\n<text text-anchor=\"middle\" x=\"1132\" y=\"-595.3\" font-family=\"Helvetica,sans-Serif\" font-size=\"14.00\">class = MID</text>\n</g>\n<!-- 26&#45;&gt;27 -->\n<g id=\"edge27\" class=\"edge\">\n<title>26&#45;&gt;27</title>\n<path fill=\"none\" stroke=\"black\" d=\"M1147.02,-698.91C1144.92,-688.2 1142.64,-676.62 1140.51,-665.78\"/>\n<polygon fill=\"black\" stroke=\"black\" points=\"1143.88,-664.8 1138.52,-655.67 1137.01,-666.15 1143.88,-664.8\"/>\n</g>\n<!-- 28 -->\n<g id=\"node29\" class=\"node\">\n<title>28</title>\n<path fill=\"#70eca4\" stroke=\"black\" d=\"M1471,-663C1471,-663 1217,-663 1217,-663 1211,-663 1205,-657 1205,-651 1205,-651 1205,-592 1205,-592 1205,-586 1211,-580 1217,-580 1217,-580 1471,-580 1471,-580 1477,-580 1483,-586 1483,-592 1483,-592 1483,-651 1483,-651 1483,-657 1477,-663 1471,-663\"/>\n<text text-anchor=\"middle\" x=\"1344\" y=\"-647.8\" font-family=\"Helvetica,sans-Serif\" font-size=\"14.00\">TEXTURE_GLRLM_ED_T2_GLN &lt;= 0.017</text>\n<text text-anchor=\"middle\" x=\"1344\" y=\"-632.8\" font-family=\"Helvetica,sans-Serif\" font-size=\"14.00\">gini = 0.368</text>\n<text text-anchor=\"middle\" x=\"1344\" y=\"-617.8\" font-family=\"Helvetica,sans-Serif\" font-size=\"14.00\">samples = 22</text>\n<text text-anchor=\"middle\" x=\"1344\" y=\"-602.8\" font-family=\"Helvetica,sans-Serif\" font-size=\"14.00\">value = [4, 17, 1]</text>\n<text text-anchor=\"middle\" x=\"1344\" y=\"-587.8\" font-family=\"Helvetica,sans-Serif\" font-size=\"14.00\">class = LOW</text>\n</g>\n<!-- 26&#45;&gt;28 -->\n<g id=\"edge28\" class=\"edge\">\n<title>26&#45;&gt;28</title>\n<path fill=\"none\" stroke=\"black\" d=\"M1220.57,-698.91C1236.41,-689.11 1253.44,-678.56 1269.64,-668.53\"/>\n<polygon fill=\"black\" stroke=\"black\" points=\"1271.88,-671.26 1278.54,-663.02 1268.2,-665.31 1271.88,-671.26\"/>\n</g>\n<!-- 29 -->\n<g id=\"node30\" class=\"node\">\n<title>29</title>\n<path fill=\"#f6d5bd\" stroke=\"black\" d=\"M1448,-544C1448,-544 1194,-544 1194,-544 1188,-544 1182,-538 1182,-532 1182,-532 1182,-473 1182,-473 1182,-467 1188,-461 1194,-461 1194,-461 1448,-461 1448,-461 1454,-461 1460,-467 1460,-473 1460,-473 1460,-532 1460,-532 1460,-538 1454,-544 1448,-544\"/>\n<text text-anchor=\"middle\" x=\"1321\" y=\"-528.8\" font-family=\"Helvetica,sans-Serif\" font-size=\"14.00\">TEXTURE_GLRLM_ED_T2_GLN &lt;= 0.016</text>\n<text text-anchor=\"middle\" x=\"1321\" y=\"-513.8\" font-family=\"Helvetica,sans-Serif\" font-size=\"14.00\">gini = 0.48</text>\n<text text-anchor=\"middle\" x=\"1321\" y=\"-498.8\" font-family=\"Helvetica,sans-Serif\" font-size=\"14.00\">samples = 5</text>\n<text text-anchor=\"middle\" x=\"1321\" y=\"-483.8\" font-family=\"Helvetica,sans-Serif\" font-size=\"14.00\">value = [3, 2, 0]</text>\n<text text-anchor=\"middle\" x=\"1321\" y=\"-468.8\" font-family=\"Helvetica,sans-Serif\" font-size=\"14.00\">class = HIGH</text>\n</g>\n<!-- 28&#45;&gt;29 -->\n<g id=\"edge29\" class=\"edge\">\n<title>28&#45;&gt;29</title>\n<path fill=\"none\" stroke=\"black\" d=\"M1336.02,-579.91C1334.38,-571.56 1332.63,-562.67 1330.93,-554.02\"/>\n<polygon fill=\"black\" stroke=\"black\" points=\"1334.33,-553.16 1328.97,-544.02 1327.46,-554.51 1334.33,-553.16\"/>\n</g>\n<!-- 32 -->\n<g id=\"node33\" class=\"node\">\n<title>32</title>\n<path fill=\"#52e891\" stroke=\"black\" d=\"M1744,-544C1744,-544 1490,-544 1490,-544 1484,-544 1478,-538 1478,-532 1478,-532 1478,-473 1478,-473 1478,-467 1484,-461 1490,-461 1490,-461 1744,-461 1744,-461 1750,-461 1756,-467 1756,-473 1756,-473 1756,-532 1756,-532 1756,-538 1750,-544 1744,-544\"/>\n<text text-anchor=\"middle\" x=\"1617\" y=\"-528.8\" font-family=\"Helvetica,sans-Serif\" font-size=\"14.00\">TEXTURE_GLRLM_ED_T2_GLN &lt;= 0.018</text>\n<text text-anchor=\"middle\" x=\"1617\" y=\"-513.8\" font-family=\"Helvetica,sans-Serif\" font-size=\"14.00\">gini = 0.215</text>\n<text text-anchor=\"middle\" x=\"1617\" y=\"-498.8\" font-family=\"Helvetica,sans-Serif\" font-size=\"14.00\">samples = 17</text>\n<text text-anchor=\"middle\" x=\"1617\" y=\"-483.8\" font-family=\"Helvetica,sans-Serif\" font-size=\"14.00\">value = [1, 15, 1]</text>\n<text text-anchor=\"middle\" x=\"1617\" y=\"-468.8\" font-family=\"Helvetica,sans-Serif\" font-size=\"14.00\">class = LOW</text>\n</g>\n<!-- 28&#45;&gt;32 -->\n<g id=\"edge32\" class=\"edge\">\n<title>28&#45;&gt;32</title>\n<path fill=\"none\" stroke=\"black\" d=\"M1438.72,-579.91C1462.75,-569.61 1488.7,-558.49 1513.16,-548\"/>\n<polygon fill=\"black\" stroke=\"black\" points=\"1514.64,-551.18 1522.45,-544.02 1511.88,-544.74 1514.64,-551.18\"/>\n</g>\n<!-- 30 -->\n<g id=\"node31\" class=\"node\">\n<title>30</title>\n<path fill=\"#39e581\" stroke=\"black\" d=\"M1277,-417.5C1277,-417.5 1191,-417.5 1191,-417.5 1185,-417.5 1179,-411.5 1179,-405.5 1179,-405.5 1179,-361.5 1179,-361.5 1179,-355.5 1185,-349.5 1191,-349.5 1191,-349.5 1277,-349.5 1277,-349.5 1283,-349.5 1289,-355.5 1289,-361.5 1289,-361.5 1289,-405.5 1289,-405.5 1289,-411.5 1283,-417.5 1277,-417.5\"/>\n<text text-anchor=\"middle\" x=\"1234\" y=\"-402.3\" font-family=\"Helvetica,sans-Serif\" font-size=\"14.00\">gini = 0.0</text>\n<text text-anchor=\"middle\" x=\"1234\" y=\"-387.3\" font-family=\"Helvetica,sans-Serif\" font-size=\"14.00\">samples = 2</text>\n<text text-anchor=\"middle\" x=\"1234\" y=\"-372.3\" font-family=\"Helvetica,sans-Serif\" font-size=\"14.00\">value = [0, 2, 0]</text>\n<text text-anchor=\"middle\" x=\"1234\" y=\"-357.3\" font-family=\"Helvetica,sans-Serif\" font-size=\"14.00\">class = LOW</text>\n</g>\n<!-- 29&#45;&gt;30 -->\n<g id=\"edge30\" class=\"edge\">\n<title>29&#45;&gt;30</title>\n<path fill=\"none\" stroke=\"black\" d=\"M1290.82,-460.91C1282.36,-449.54 1273.17,-437.18 1264.69,-425.77\"/>\n<polygon fill=\"black\" stroke=\"black\" points=\"1267.44,-423.6 1258.66,-417.67 1261.82,-427.78 1267.44,-423.6\"/>\n</g>\n<!-- 31 -->\n<g id=\"node32\" class=\"node\">\n<title>31</title>\n<path fill=\"#e58139\" stroke=\"black\" d=\"M1405,-417.5C1405,-417.5 1319,-417.5 1319,-417.5 1313,-417.5 1307,-411.5 1307,-405.5 1307,-405.5 1307,-361.5 1307,-361.5 1307,-355.5 1313,-349.5 1319,-349.5 1319,-349.5 1405,-349.5 1405,-349.5 1411,-349.5 1417,-355.5 1417,-361.5 1417,-361.5 1417,-405.5 1417,-405.5 1417,-411.5 1411,-417.5 1405,-417.5\"/>\n<text text-anchor=\"middle\" x=\"1362\" y=\"-402.3\" font-family=\"Helvetica,sans-Serif\" font-size=\"14.00\">gini = 0.0</text>\n<text text-anchor=\"middle\" x=\"1362\" y=\"-387.3\" font-family=\"Helvetica,sans-Serif\" font-size=\"14.00\">samples = 3</text>\n<text text-anchor=\"middle\" x=\"1362\" y=\"-372.3\" font-family=\"Helvetica,sans-Serif\" font-size=\"14.00\">value = [3, 0, 0]</text>\n<text text-anchor=\"middle\" x=\"1362\" y=\"-357.3\" font-family=\"Helvetica,sans-Serif\" font-size=\"14.00\">class = HIGH</text>\n</g>\n<!-- 29&#45;&gt;31 -->\n<g id=\"edge31\" class=\"edge\">\n<title>29&#45;&gt;31</title>\n<path fill=\"none\" stroke=\"black\" d=\"M1335.22,-460.91C1339.05,-449.98 1343.2,-438.14 1347.07,-427.11\"/>\n<polygon fill=\"black\" stroke=\"black\" points=\"1350.37,-428.26 1350.38,-417.67 1343.77,-425.95 1350.37,-428.26\"/>\n</g>\n<!-- 33 -->\n<g id=\"node34\" class=\"node\">\n<title>33</title>\n<path fill=\"#39e581\" stroke=\"black\" d=\"M1622.5,-417.5C1622.5,-417.5 1529.5,-417.5 1529.5,-417.5 1523.5,-417.5 1517.5,-411.5 1517.5,-405.5 1517.5,-405.5 1517.5,-361.5 1517.5,-361.5 1517.5,-355.5 1523.5,-349.5 1529.5,-349.5 1529.5,-349.5 1622.5,-349.5 1622.5,-349.5 1628.5,-349.5 1634.5,-355.5 1634.5,-361.5 1634.5,-361.5 1634.5,-405.5 1634.5,-405.5 1634.5,-411.5 1628.5,-417.5 1622.5,-417.5\"/>\n<text text-anchor=\"middle\" x=\"1576\" y=\"-402.3\" font-family=\"Helvetica,sans-Serif\" font-size=\"14.00\">gini = 0.0</text>\n<text text-anchor=\"middle\" x=\"1576\" y=\"-387.3\" font-family=\"Helvetica,sans-Serif\" font-size=\"14.00\">samples = 11</text>\n<text text-anchor=\"middle\" x=\"1576\" y=\"-372.3\" font-family=\"Helvetica,sans-Serif\" font-size=\"14.00\">value = [0, 11, 0]</text>\n<text text-anchor=\"middle\" x=\"1576\" y=\"-357.3\" font-family=\"Helvetica,sans-Serif\" font-size=\"14.00\">class = LOW</text>\n</g>\n<!-- 32&#45;&gt;33 -->\n<g id=\"edge33\" class=\"edge\">\n<title>32&#45;&gt;33</title>\n<path fill=\"none\" stroke=\"black\" d=\"M1602.78,-460.91C1598.95,-449.98 1594.8,-438.14 1590.93,-427.11\"/>\n<polygon fill=\"black\" stroke=\"black\" points=\"1594.23,-425.95 1587.62,-417.67 1587.63,-428.26 1594.23,-425.95\"/>\n</g>\n<!-- 34 -->\n<g id=\"node35\" class=\"node\">\n<title>34</title>\n<path fill=\"#88efb3\" stroke=\"black\" d=\"M1937,-425C1937,-425 1665,-425 1665,-425 1659,-425 1653,-419 1653,-413 1653,-413 1653,-354 1653,-354 1653,-348 1659,-342 1665,-342 1665,-342 1937,-342 1937,-342 1943,-342 1949,-348 1949,-354 1949,-354 1949,-413 1949,-413 1949,-419 1943,-425 1937,-425\"/>\n<text text-anchor=\"middle\" x=\"1801\" y=\"-409.8\" font-family=\"Helvetica,sans-Serif\" font-size=\"14.00\">TEXTURE_GLSZM_ED_T1Gd_ZSN &lt;= 0.392</text>\n<text text-anchor=\"middle\" x=\"1801\" y=\"-394.8\" font-family=\"Helvetica,sans-Serif\" font-size=\"14.00\">gini = 0.5</text>\n<text text-anchor=\"middle\" x=\"1801\" y=\"-379.8\" font-family=\"Helvetica,sans-Serif\" font-size=\"14.00\">samples = 6</text>\n<text text-anchor=\"middle\" x=\"1801\" y=\"-364.8\" font-family=\"Helvetica,sans-Serif\" font-size=\"14.00\">value = [1, 4, 1]</text>\n<text text-anchor=\"middle\" x=\"1801\" y=\"-349.8\" font-family=\"Helvetica,sans-Serif\" font-size=\"14.00\">class = LOW</text>\n</g>\n<!-- 32&#45;&gt;34 -->\n<g id=\"edge34\" class=\"edge\">\n<title>32&#45;&gt;34</title>\n<path fill=\"none\" stroke=\"black\" d=\"M1680.84,-460.91C1696.25,-451.11 1712.83,-440.56 1728.61,-430.53\"/>\n<polygon fill=\"black\" stroke=\"black\" points=\"1730.71,-433.34 1737.27,-425.02 1726.96,-427.43 1730.71,-433.34\"/>\n</g>\n<!-- 35 -->\n<g id=\"node36\" class=\"node\">\n<title>35</title>\n<path fill=\"#6aeca0\" stroke=\"black\" d=\"M1822,-306C1822,-306 1568,-306 1568,-306 1562,-306 1556,-300 1556,-294 1556,-294 1556,-235 1556,-235 1556,-229 1562,-223 1568,-223 1568,-223 1822,-223 1822,-223 1828,-223 1834,-229 1834,-235 1834,-235 1834,-294 1834,-294 1834,-300 1828,-306 1822,-306\"/>\n<text text-anchor=\"middle\" x=\"1695\" y=\"-290.8\" font-family=\"Helvetica,sans-Serif\" font-size=\"14.00\">TEXTURE_GLRLM_ED_T2_GLN &lt;= 0.018</text>\n<text text-anchor=\"middle\" x=\"1695\" y=\"-275.8\" font-family=\"Helvetica,sans-Serif\" font-size=\"14.00\">gini = 0.32</text>\n<text text-anchor=\"middle\" x=\"1695\" y=\"-260.8\" font-family=\"Helvetica,sans-Serif\" font-size=\"14.00\">samples = 5</text>\n<text text-anchor=\"middle\" x=\"1695\" y=\"-245.8\" font-family=\"Helvetica,sans-Serif\" font-size=\"14.00\">value = [1, 4, 0]</text>\n<text text-anchor=\"middle\" x=\"1695\" y=\"-230.8\" font-family=\"Helvetica,sans-Serif\" font-size=\"14.00\">class = LOW</text>\n</g>\n<!-- 34&#45;&gt;35 -->\n<g id=\"edge35\" class=\"edge\">\n<title>34&#45;&gt;35</title>\n<path fill=\"none\" stroke=\"black\" d=\"M1764.22,-341.91C1755.92,-332.74 1747.03,-322.93 1738.48,-313.49\"/>\n<polygon fill=\"black\" stroke=\"black\" points=\"1741.02,-311.08 1731.71,-306.02 1735.83,-315.78 1741.02,-311.08\"/>\n</g>\n<!-- 38 -->\n<g id=\"node39\" class=\"node\">\n<title>38</title>\n<path fill=\"#8139e5\" stroke=\"black\" d=\"M1950,-298.5C1950,-298.5 1864,-298.5 1864,-298.5 1858,-298.5 1852,-292.5 1852,-286.5 1852,-286.5 1852,-242.5 1852,-242.5 1852,-236.5 1858,-230.5 1864,-230.5 1864,-230.5 1950,-230.5 1950,-230.5 1956,-230.5 1962,-236.5 1962,-242.5 1962,-242.5 1962,-286.5 1962,-286.5 1962,-292.5 1956,-298.5 1950,-298.5\"/>\n<text text-anchor=\"middle\" x=\"1907\" y=\"-283.3\" font-family=\"Helvetica,sans-Serif\" font-size=\"14.00\">gini = 0.0</text>\n<text text-anchor=\"middle\" x=\"1907\" y=\"-268.3\" font-family=\"Helvetica,sans-Serif\" font-size=\"14.00\">samples = 1</text>\n<text text-anchor=\"middle\" x=\"1907\" y=\"-253.3\" font-family=\"Helvetica,sans-Serif\" font-size=\"14.00\">value = [0, 0, 1]</text>\n<text text-anchor=\"middle\" x=\"1907\" y=\"-238.3\" font-family=\"Helvetica,sans-Serif\" font-size=\"14.00\">class = MID</text>\n</g>\n<!-- 34&#45;&gt;38 -->\n<g id=\"edge38\" class=\"edge\">\n<title>34&#45;&gt;38</title>\n<path fill=\"none\" stroke=\"black\" d=\"M1837.78,-341.91C1848.27,-330.32 1859.71,-317.7 1870.21,-306.11\"/>\n<polygon fill=\"black\" stroke=\"black\" points=\"1872.83,-308.43 1876.95,-298.67 1867.64,-303.73 1872.83,-308.43\"/>\n</g>\n<!-- 36 -->\n<g id=\"node37\" class=\"node\">\n<title>36</title>\n<path fill=\"#e58139\" stroke=\"black\" d=\"M1674,-179.5C1674,-179.5 1588,-179.5 1588,-179.5 1582,-179.5 1576,-173.5 1576,-167.5 1576,-167.5 1576,-123.5 1576,-123.5 1576,-117.5 1582,-111.5 1588,-111.5 1588,-111.5 1674,-111.5 1674,-111.5 1680,-111.5 1686,-117.5 1686,-123.5 1686,-123.5 1686,-167.5 1686,-167.5 1686,-173.5 1680,-179.5 1674,-179.5\"/>\n<text text-anchor=\"middle\" x=\"1631\" y=\"-164.3\" font-family=\"Helvetica,sans-Serif\" font-size=\"14.00\">gini = 0.0</text>\n<text text-anchor=\"middle\" x=\"1631\" y=\"-149.3\" font-family=\"Helvetica,sans-Serif\" font-size=\"14.00\">samples = 1</text>\n<text text-anchor=\"middle\" x=\"1631\" y=\"-134.3\" font-family=\"Helvetica,sans-Serif\" font-size=\"14.00\">value = [1, 0, 0]</text>\n<text text-anchor=\"middle\" x=\"1631\" y=\"-119.3\" font-family=\"Helvetica,sans-Serif\" font-size=\"14.00\">class = HIGH</text>\n</g>\n<!-- 35&#45;&gt;36 -->\n<g id=\"edge36\" class=\"edge\">\n<title>35&#45;&gt;36</title>\n<path fill=\"none\" stroke=\"black\" d=\"M1672.8,-222.91C1666.76,-211.87 1660.21,-199.9 1654.12,-188.77\"/>\n<polygon fill=\"black\" stroke=\"black\" points=\"1657.01,-186.76 1649.14,-179.67 1650.87,-190.12 1657.01,-186.76\"/>\n</g>\n<!-- 37 -->\n<g id=\"node38\" class=\"node\">\n<title>37</title>\n<path fill=\"#39e581\" stroke=\"black\" d=\"M1802,-179.5C1802,-179.5 1716,-179.5 1716,-179.5 1710,-179.5 1704,-173.5 1704,-167.5 1704,-167.5 1704,-123.5 1704,-123.5 1704,-117.5 1710,-111.5 1716,-111.5 1716,-111.5 1802,-111.5 1802,-111.5 1808,-111.5 1814,-117.5 1814,-123.5 1814,-123.5 1814,-167.5 1814,-167.5 1814,-173.5 1808,-179.5 1802,-179.5\"/>\n<text text-anchor=\"middle\" x=\"1759\" y=\"-164.3\" font-family=\"Helvetica,sans-Serif\" font-size=\"14.00\">gini = 0.0</text>\n<text text-anchor=\"middle\" x=\"1759\" y=\"-149.3\" font-family=\"Helvetica,sans-Serif\" font-size=\"14.00\">samples = 4</text>\n<text text-anchor=\"middle\" x=\"1759\" y=\"-134.3\" font-family=\"Helvetica,sans-Serif\" font-size=\"14.00\">value = [0, 4, 0]</text>\n<text text-anchor=\"middle\" x=\"1759\" y=\"-119.3\" font-family=\"Helvetica,sans-Serif\" font-size=\"14.00\">class = LOW</text>\n</g>\n<!-- 35&#45;&gt;37 -->\n<g id=\"edge37\" class=\"edge\">\n<title>35&#45;&gt;37</title>\n<path fill=\"none\" stroke=\"black\" d=\"M1717.2,-222.91C1723.24,-211.87 1729.79,-199.9 1735.88,-188.77\"/>\n<polygon fill=\"black\" stroke=\"black\" points=\"1739.13,-190.12 1740.86,-179.67 1732.99,-186.76 1739.13,-190.12\"/>\n</g>\n</g>\n</svg>\n",
            "text/plain": [
              "<graphviz.sources.Source at 0x7e2897d35210>"
            ]
          },
          "metadata": {},
          "execution_count": 28
        }
      ]
    },
    {
      "cell_type": "markdown",
      "source": [
        "# RF with N-Fold CV"
      ],
      "metadata": {
        "id": "3UAcXyuPqZV1"
      }
    },
    {
      "cell_type": "code",
      "source": [
        "import matplotlib.pyplot as plt\n",
        "from sklearn.ensemble import RandomForestClassifier\n",
        "from sklearn.model_selection import StratifiedKFold"
      ],
      "metadata": {
        "id": "a3xSoJIFqYtX"
      },
      "execution_count": 5,
      "outputs": []
    },
    {
      "cell_type": "code",
      "source": [
        "# Extract corresponding values using NumPy indexing\n",
        "valid_columns = ['HISTO_NET_T2_Bin9', 'TEXTURE_GLRLM_ED_T2_GLN', 'TEXTURE_GLSZM_ED_T1Gd_ZSN', 'TEXTURE_GLSZM_NET_T2_LGZE', 'Age']\n",
        "selected_values = X[:, [df.columns.get_loc(col) for col in valid_columns]]"
      ],
      "metadata": {
        "id": "qJttJR97rJ-J"
      },
      "execution_count": 13,
      "outputs": []
    },
    {
      "cell_type": "code",
      "source": [
        "selected_values.shape"
      ],
      "metadata": {
        "colab": {
          "base_uri": "https://localhost:8080/"
        },
        "id": "zF3IFdyAtFWD",
        "outputId": "795bfd55-14f8-43e4-9ef1-86eb144e2375"
      },
      "execution_count": 15,
      "outputs": [
        {
          "output_type": "execute_result",
          "data": {
            "text/plain": [
              "(76, 5)"
            ]
          },
          "metadata": {},
          "execution_count": 15
        }
      ]
    },
    {
      "cell_type": "code",
      "source": [
        "# Define number of folds for cross-validation\n",
        "n_folds = 10\n",
        "\n",
        "# Stratified K-Fold cross-validation\n",
        "skf = StratifiedKFold(n_splits=n_folds, shuffle=True, random_state=42)\n",
        "\n",
        "# Initialize empty lists to store scores and predictions\n",
        "scores = []\n",
        "y_pred = np.zeros_like(y)\n",
        "\n",
        "# Plot setup\n",
        "fig, ax = plt.subplots()\n",
        "\n",
        "# Iterate over folds\n",
        "for fold_id, (train_index, test_index) in enumerate(skf.split(selected_values, y)):\n",
        "    # Split data into training and testing sets\n",
        "    X_train, X_test = X[train_index], X[test_index]\n",
        "    y_train, y_test = y[train_index], y[test_index]\n",
        "\n",
        "    # Create and train the Random Forest model\n",
        "    model = RandomForestClassifier(n_estimators=100, random_state=42)  # Adjust hyperparameters as needed\n",
        "    model.fit(X_train, y_train)\n",
        "\n",
        "    # Make predictions on the test set\n",
        "    y_pred[test_index] = model.predict(X_test)\n",
        "\n",
        "    # Evaluate the model using accuracy (replace with your desired metric)\n",
        "    from sklearn.metrics import accuracy_score\n",
        "    score = accuracy_score(y_test, y_pred[test_index])\n",
        "    scores.append(score)\n",
        "\n",
        "    # Plot individual fold accuracy\n",
        "    ax.plot([fold_id + 1], [score], marker='o', linestyle='-', color='b')\n",
        "\n",
        "# Plot average accuracy line\n",
        "avg_score = np.mean(scores)\n",
        "ax.axhline(y=avg_score, color='r', linestyle='--', label=f'Average: {avg_score:.4f}')\n",
        "\n",
        "# Customize plot\n",
        "ax.set_xlabel('Fold')\n",
        "ax.set_ylabel('Accuracy')\n",
        "ax.set_title('Random Forest CV Accuracy per Fold')\n",
        "ax.legend()\n",
        "plt.show()\n",
        "\n",
        "# Print the average cross-validation score\n",
        "print(f\"Average cross-validation accuracy: {np.mean(scores):.4f}\")"
      ],
      "metadata": {
        "colab": {
          "base_uri": "https://localhost:8080/",
          "height": 490
        },
        "id": "btP332H2qkhR",
        "outputId": "e959e5ca-b5a6-4a7b-9558-5c5291823f1b"
      },
      "execution_count": 14,
      "outputs": [
        {
          "output_type": "display_data",
          "data": {
            "text/plain": [
              "<Figure size 640x480 with 1 Axes>"
            ],
            "image/png": "[encoded data removed]"
          },
          "metadata": {}
        },
        {
          "output_type": "stream",
          "name": "stdout",
          "text": [
            "Average cross-validation accuracy: 0.4107\n"
          ]
        }
      ]
    },
    {
      "cell_type": "markdown",
      "source": [
        "## with 10 features"
      ],
      "metadata": {
        "id": "jSyd_tJPr5r8"
      }
    },
    {
      "cell_type": "code",
      "source": [
        "\n",
        "valid_columns =['HISTO_NET_T1Gd_Bin7', 'HISTO_NET_T2_Bin9', 'HISTO_NET_FLAIR_Bin2', 'TEXTURE_GLRLM_ED_T2_GLN', 'TEXTURE_GLSZM_ED_T1Gd_ZSN', 'TEXTURE_GLSZM_ED_T1Gd_ZSV', 'TEXTURE_GLSZM_NET_T1_GLV', 'TEXTURE_GLSZM_NET_T2_LGZE', 'TGM_T_1', 'Age']\n",
        "selected_values_10 = X[:, [df.columns.get_loc(col) for col in valid_columns]]"
      ],
      "metadata": {
        "id": "a8LT9fYWr8C6"
      },
      "execution_count": 18,
      "outputs": []
    },
    {
      "cell_type": "code",
      "source": [
        "selected_values_10.shape"
      ],
      "metadata": {
        "colab": {
          "base_uri": "https://localhost:8080/"
        },
        "id": "ftAoMzHJsWqn",
        "outputId": "37def697-ccb0-452c-d7a1-431e303e196f"
      },
      "execution_count": 19,
      "outputs": [
        {
          "output_type": "execute_result",
          "data": {
            "text/plain": [
              "(76, 10)"
            ]
          },
          "metadata": {},
          "execution_count": 19
        }
      ]
    },
    {
      "cell_type": "code",
      "source": [
        "# Define number of folds for cross-validation\n",
        "n_folds = 10\n",
        "\n",
        "# Stratified K-Fold cross-validation\n",
        "skf = StratifiedKFold(n_splits=n_folds, shuffle=True, random_state=42)\n",
        "\n",
        "# Initialize empty lists to store scores and predictions\n",
        "scores = []\n",
        "y_pred = np.zeros_like(y)\n",
        "\n",
        "# Plot setup\n",
        "fig, ax = plt.subplots()\n",
        "\n",
        "# Iterate over folds\n",
        "for fold_id, (train_index, test_index) in enumerate(skf.split(selected_values_10, y)):\n",
        "    # Split data into training and testing sets\n",
        "    X_train, X_test = X[train_index], X[test_index]\n",
        "    y_train, y_test = y[train_index], y[test_index]\n",
        "\n",
        "    # Create and train the Random Forest model\n",
        "    model = RandomForestClassifier(n_estimators=100, random_state=42)  # Adjust hyperparameters as needed\n",
        "    model.fit(X_train, y_train)\n",
        "\n",
        "    # Make predictions on the test set\n",
        "    y_pred[test_index] = model.predict(X_test)\n",
        "\n",
        "    # Evaluate the model using accuracy (replace with your desired metric)\n",
        "    from sklearn.metrics import accuracy_score\n",
        "    score = accuracy_score(y_test, y_pred[test_index])\n",
        "    scores.append(score)\n",
        "\n",
        "    # Plot individual fold accuracy\n",
        "    ax.plot([fold_id + 1], [score], marker='o', linestyle='-', color='b')\n",
        "\n",
        "# Plot average accuracy line\n",
        "avg_score = np.mean(scores)\n",
        "ax.axhline(y=avg_score, color='r', linestyle='--', label=f'Average: {avg_score:.4f}')\n",
        "\n",
        "# Customize plot\n",
        "ax.set_xlabel('Fold')\n",
        "ax.set_ylabel('Accuracy')\n",
        "ax.set_title('Random Forest CV Accuracy per Fold')\n",
        "ax.legend()\n",
        "plt.show()\n",
        "\n",
        "# Print the average cross-validation score\n",
        "print(f\"Average cross-validation accuracy: {np.mean(scores):.4f}\")"
      ],
      "metadata": {
        "colab": {
          "base_uri": "https://localhost:8080/",
          "height": 490
        },
        "id": "WHbaSsWvsGLK",
        "outputId": "84c60be6-affb-4951-d252-27a644890349"
      },
      "execution_count": 20,
      "outputs": [
        {
          "output_type": "display_data",
          "data": {
            "text/plain": [
              "<Figure size 640x480 with 1 Axes>"
            ],
            "image/png": "[encoded data removed]"
          },
          "metadata": {}
        },
        {
          "output_type": "stream",
          "name": "stdout",
          "text": [
            "Average cross-validation accuracy: 0.4107\n"
          ]
        }
      ]
    },
    {
      "cell_type": "markdown",
      "source": [
        "# SHAP + Random Forest"
      ],
      "metadata": {
        "id": "JZmNID7G3r0O"
      }
    },
    {
      "cell_type": "code",
      "source": [
        "df.columns.get_loc('VOLUME_ET')"
      ],
      "metadata": {
        "colab": {
          "base_uri": "https://localhost:8080/"
        },
        "id": "b6ITWeTFC0EV",
        "outputId": "a1949963-d78c-4d4a-d086-800d8429ec40"
      },
      "execution_count": null,
      "outputs": [
        {
          "output_type": "execute_result",
          "data": {
            "text/plain": [
              "0"
            ]
          },
          "metadata": {},
          "execution_count": 10
        }
      ]
    },
    {
      "cell_type": "code",
      "source": [
        "# Extract corresponding values using NumPy indexing\n",
        "valid_columns = ['HISTO_NET_T2_Bin9', 'TEXTURE_GLRLM_ED_T2_GLN', 'TEXTURE_GLSZM_ED_T1Gd_ZSN', 'TEXTURE_GLSZM_NET_T2_LGZE', 'Age']\n",
        "selected_values = X[:, [df.columns.get_loc(col) for col in valid_columns]]\n",
        "\n",
        "#print(selected_values)"
      ],
      "metadata": {
        "id": "ac1SeuBL3ozz"
      },
      "execution_count": null,
      "outputs": []
    },
    {
      "cell_type": "code",
      "source": [
        "from sklearn.ensemble import RandomForestClassifier\n",
        "\n",
        "model = RandomForestClassifier(n_estimators=20, random_state =1502)\n",
        "model.fit(selected_values, y)"
      ],
      "metadata": {
        "colab": {
          "base_uri": "https://localhost:8080/",
          "height": 75
        },
        "id": "jAjUvTXyDYXd",
        "outputId": "ce18b29b-bfad-4951-bcbe-1c4c1d201511"
      },
      "execution_count": null,
      "outputs": [
        {
          "output_type": "execute_result",
          "data": {
            "text/plain": [
              "RandomForestClassifier(n_estimators=20, random_state=1502)"
            ],
            "text/html": [
              "<style>#sk-container-id-2 {color: black;background-color: white;}#sk-container-id-2 pre{padding: 0;}#sk-container-id-2 div.sk-toggleable {background-color: white;}#sk-container-id-2 label.sk-toggleable__label {cursor: pointer;display: block;width: 100%;margin-bottom: 0;padding: 0.3em;box-sizing: border-box;text-align: center;}#sk-container-id-2 label.sk-toggleable__label-arrow:before {content: \"▸\";float: left;margin-right: 0.25em;color: #696969;}#sk-container-id-2 label.sk-toggleable__label-arrow:hover:before {color: black;}#sk-container-id-2 div.sk-estimator:hover label.sk-toggleable__label-arrow:before {color: black;}#sk-container-id-2 div.sk-toggleable__content {max-height: 0;max-width: 0;overflow: hidden;text-align: left;background-color: #f0f8ff;}#sk-container-id-2 div.sk-toggleable__content pre {margin: 0.2em;color: black;border-radius: 0.25em;background-color: #f0f8ff;}#sk-container-id-2 input.sk-toggleable__control:checked~div.sk-toggleable__content {max-height: 200px;max-width: 100%;overflow: auto;}#sk-container-id-2 input.sk-toggleable__control:checked~label.sk-toggleable__label-arrow:before {content: \"▾\";}#sk-container-id-2 div.sk-estimator input.sk-toggleable__control:checked~label.sk-toggleable__label {background-color: #d4ebff;}#sk-container-id-2 div.sk-label input.sk-toggleable__control:checked~label.sk-toggleable__label {background-color: #d4ebff;}#sk-container-id-2 input.sk-hidden--visually {border: 0;clip: rect(1px 1px 1px 1px);clip: rect(1px, 1px, 1px, 1px);height: 1px;margin: -1px;overflow: hidden;padding: 0;position: absolute;width: 1px;}#sk-container-id-2 div.sk-estimator {font-family: monospace;background-color: #f0f8ff;border: 1px dotted black;border-radius: 0.25em;box-sizing: border-box;margin-bottom: 0.5em;}#sk-container-id-2 div.sk-estimator:hover {background-color: #d4ebff;}#sk-container-id-2 div.sk-parallel-item::after {content: \"\";width: 100%;border-bottom: 1px solid gray;flex-grow: 1;}#sk-container-id-2 div.sk-label:hover label.sk-toggleable__label {background-color: #d4ebff;}#sk-container-id-2 div.sk-serial::before {content: \"\";position: absolute;border-left: 1px solid gray;box-sizing: border-box;top: 0;bottom: 0;left: 50%;z-index: 0;}#sk-container-id-2 div.sk-serial {display: flex;flex-direction: column;align-items: center;background-color: white;padding-right: 0.2em;padding-left: 0.2em;position: relative;}#sk-container-id-2 div.sk-item {position: relative;z-index: 1;}#sk-container-id-2 div.sk-parallel {display: flex;align-items: stretch;justify-content: center;background-color: white;position: relative;}#sk-container-id-2 div.sk-item::before, #sk-container-id-2 div.sk-parallel-item::before {content: \"\";position: absolute;border-left: 1px solid gray;box-sizing: border-box;top: 0;bottom: 0;left: 50%;z-index: -1;}#sk-container-id-2 div.sk-parallel-item {display: flex;flex-direction: column;z-index: 1;position: relative;background-color: white;}#sk-container-id-2 div.sk-parallel-item:first-child::after {align-self: flex-end;width: 50%;}#sk-container-id-2 div.sk-parallel-item:last-child::after {align-self: flex-start;width: 50%;}#sk-container-id-2 div.sk-parallel-item:only-child::after {width: 0;}#sk-container-id-2 div.sk-dashed-wrapped {border: 1px dashed gray;margin: 0 0.4em 0.5em 0.4em;box-sizing: border-box;padding-bottom: 0.4em;background-color: white;}#sk-container-id-2 div.sk-label label {font-family: monospace;font-weight: bold;display: inline-block;line-height: 1.2em;}#sk-container-id-2 div.sk-label-container {text-align: center;}#sk-container-id-2 div.sk-container {/* jupyter's `normalize.less` sets `[hidden] { display: none; }` but bootstrap.min.css set `[hidden] { display: none !important; }` so we also need the `!important` here to be able to override the default hidden behavior on the sphinx rendered scikit-learn.org. See: https://github.com/scikit-learn/scikit-learn/issues/21755 */display: inline-block !important;position: relative;}#sk-container-id-2 div.sk-text-repr-fallback {display: none;}</style><div id=\"sk-container-id-2\" class=\"sk-top-container\"><div class=\"sk-text-repr-fallback\"><pre>RandomForestClassifier(n_estimators=20, random_state=1502)</pre><b>In a Jupyter environment, please rerun this cell to show the HTML representation or trust the notebook. <br />On GitHub, the HTML representation is unable to render, please try loading this page with nbviewer.org.</b></div><div class=\"sk-container\" hidden><div class=\"sk-item\"><div class=\"sk-estimator sk-toggleable\"><input class=\"sk-toggleable__control sk-hidden--visually\" id=\"sk-estimator-id-2\" type=\"checkbox\" checked><label for=\"sk-estimator-id-2\" class=\"sk-toggleable__label sk-toggleable__label-arrow\">RandomForestClassifier</label><div class=\"sk-toggleable__content\"><pre>RandomForestClassifier(n_estimators=20, random_state=1502)</pre></div></div></div></div></div>"
            ]
          },
          "metadata": {},
          "execution_count": 28
        }
      ]
    },
    {
      "cell_type": "code",
      "source": [
        "!pip install shap"
      ],
      "metadata": {
        "colab": {
          "base_uri": "https://localhost:8080/"
        },
        "id": "psgKuPLxHRA9",
        "outputId": "59666d5b-86bf-4b9d-a0a2-ea6eb939d96f"
      },
      "execution_count": null,
      "outputs": [
        {
          "output_type": "stream",
          "name": "stdout",
          "text": [
            "Collecting shap\n",
            "  Downloading shap-0.44.1-cp310-cp310-manylinux_2_12_x86_64.manylinux2010_x86_64.manylinux_2_17_x86_64.manylinux2014_x86_64.whl (535 kB)\n",
            "\u001b[2K     \u001b[90m━━━━━━━━━━━━━━━━━━━━━━━━━━━━━━━━━━━━━━━━\u001b[0m \u001b[32m535.7/535.7 kB\u001b[0m \u001b[31m9.0 MB/s\u001b[0m eta \u001b[36m0:00:00\u001b[0m\n",
            "\u001b[?25hRequirement already satisfied: numpy in /usr/local/lib/python3.10/dist-packages (from shap) (1.23.5)\n",
            "Requirement already satisfied: scipy in /usr/local/lib/python3.10/dist-packages (from shap) (1.11.4)\n",
            "Requirement already satisfied: scikit-learn in /usr/local/lib/python3.10/dist-packages (from shap) (1.2.2)\n",
            "Requirement already satisfied: pandas in /usr/local/lib/python3.10/dist-packages (from shap) (1.5.3)\n",
            "Requirement already satisfied: tqdm>=4.27.0 in /usr/local/lib/python3.10/dist-packages (from shap) (4.66.1)\n",
            "Requirement already satisfied: packaging>20.9 in /usr/local/lib/python3.10/dist-packages (from shap) (23.2)\n",
            "Collecting slicer==0.0.7 (from shap)\n",
            "  Downloading slicer-0.0.7-py3-none-any.whl (14 kB)\n",
            "Requirement already satisfied: numba in /usr/local/lib/python3.10/dist-packages (from shap) (0.58.1)\n",
            "Requirement already satisfied: cloudpickle in /usr/local/lib/python3.10/dist-packages (from shap) (2.2.1)\n",
            "Requirement already satisfied: llvmlite<0.42,>=0.41.0dev0 in /usr/local/lib/python3.10/dist-packages (from numba->shap) (0.41.1)\n",
            "Requirement already satisfied: python-dateutil>=2.8.1 in /usr/local/lib/python3.10/dist-packages (from pandas->shap) (2.8.2)\n",
            "Requirement already satisfied: pytz>=2020.1 in /usr/local/lib/python3.10/dist-packages (from pandas->shap) (2023.4)\n",
            "Requirement already satisfied: joblib>=1.1.1 in /usr/local/lib/python3.10/dist-packages (from scikit-learn->shap) (1.3.2)\n",
            "Requirement already satisfied: threadpoolctl>=2.0.0 in /usr/local/lib/python3.10/dist-packages (from scikit-learn->shap) (3.2.0)\n",
            "Requirement already satisfied: six>=1.5 in /usr/local/lib/python3.10/dist-packages (from python-dateutil>=2.8.1->pandas->shap) (1.16.0)\n",
            "Installing collected packages: slicer, shap\n",
            "Successfully installed shap-0.44.1 slicer-0.0.7\n"
          ]
        }
      ]
    },
    {
      "cell_type": "code",
      "source": [
        "import shap\n",
        "explainer = shap.TreeExplainer(model)"
      ],
      "metadata": {
        "id": "dKnQacb3G1BM"
      },
      "execution_count": null,
      "outputs": []
    },
    {
      "cell_type": "markdown",
      "source": [
        "['HISTO_NET_T2_Bin9', 'TEXTURE_GLRLM_ED_T2_GLN', 'TEXTURE_GLSZM_ED_T1Gd_ZSN', 'TEXTURE_GLSZM_NET_T2_LGZE', 'Age']"
      ],
      "metadata": {
        "id": "zjKr6tRoJKcx"
      }
    },
    {
      "cell_type": "code",
      "source": [
        "#sample = selected_values.sample(25)\n",
        "# Get desired sample size\n",
        "n_samples = 25  # Replace with your desired number of samples\n",
        "# Calculate row indices for sampling\n",
        "row_indices = np.random.choice(selected_values.shape[0], size=n_samples, replace=False)  # Avoid duplicates\n",
        "# Select corresponding rows from the matrix\n",
        "sample= selected_values[row_indices, :]\n",
        "shap_values = explainer.shap_values(sample)\n",
        "shap.summary_plot(shap_values,sample)"
      ],
      "metadata": {
        "colab": {
          "base_uri": "https://localhost:8080/",
          "height": 377
        },
        "id": "e2_Q_l2GHiC1",
        "outputId": "508f858b-fb34-4873-c22b-3df81076f150"
      },
      "execution_count": null,
      "outputs": [
        {
          "output_type": "display_data",
          "data": {
            "text/plain": [
              "<Figure size 800x350 with 1 Axes>"
            ],
            "image/png": "[encoded data removed]"
          },
          "metadata": {}
        }
      ]
    },
    {
      "cell_type": "code",
      "source": [
        "from sklearn.metrics import accuracy_score"
      ],
      "metadata": {
        "id": "aBEa86A1j_3W"
      },
      "execution_count": null,
      "outputs": []
    },
    {
      "cell_type": "code",
      "source": [
        "# Make predictions on the training data\n",
        "y_pred = model.predict(selected_values)\n",
        "\n",
        "# Calculate and print the accuracy\n",
        "accuracy = accuracy_score(y, y_pred)\n",
        "print(\"Training accuracy:\", accuracy)"
      ],
      "metadata": {
        "colab": {
          "base_uri": "https://localhost:8080/"
        },
        "id": "2TjtO41lkBs2",
        "outputId": "57411d68-b955-4b08-9133-4a973d2d7215"
      },
      "execution_count": null,
      "outputs": [
        {
          "output_type": "stream",
          "name": "stdout",
          "text": [
            "Training accuracy: 1.0\n"
          ]
        }
      ]
    },
    {
      "cell_type": "markdown",
      "source": [
        "with 20 features"
      ],
      "metadata": {
        "id": "kMUQmENhszu1"
      }
    },
    {
      "cell_type": "code",
      "source": [
        "# Extract corresponding values using NumPy indexing\n",
        "valid_columns = ['HISTO_NET_T1Gd_Bin7', 'HISTO_NET_T1Gd_Bin10', 'HISTO_ET_T1_Bin1', 'HISTO_ET_T1_Bin2', 'HISTO_ET_T1_Bin3', 'HISTO_ET_T1_Bin4', 'HISTO_ET_T1_Bin10', 'HISTO_NET_T2_Bin9', 'HISTO_NET_FLAIR_Bin2', 'TEXTURE_GLRLM_ED_T2_GLN', 'TEXTURE_GLSZM_ED_T1Gd_ZSN', 'TEXTURE_GLSZM_ED_T1Gd_ZSV', 'TEXTURE_GLSZM_NET_T1_LGZE', 'TEXTURE_GLSZM_NET_T1_HGZE', 'TEXTURE_GLSZM_NET_T1_SZLGE', 'TEXTURE_GLSZM_NET_T1_SZHGE', 'TEXTURE_GLSZM_NET_T1_LZLGE', 'TEXTURE_GLSZM_NET_T2_LGZE', 'TGM_T_1', 'Age']\n",
        "selected_values = X[:, [df.columns.get_loc(col) for col in valid_columns]]\n",
        "\n",
        "#print(selected_values)"
      ],
      "metadata": {
        "id": "u8z3bHCIsla4"
      },
      "execution_count": null,
      "outputs": []
    },
    {
      "cell_type": "code",
      "source": [
        "\n",
        "model = RandomForestClassifier(n_estimators=20, random_state =1502)\n",
        "model.fit(selected_values, y)"
      ],
      "metadata": {
        "colab": {
          "base_uri": "https://localhost:8080/",
          "height": 75
        },
        "id": "RU4MAKy9s3UI",
        "outputId": "240c224d-b2f2-4480-ca53-5593bc458157"
      },
      "execution_count": null,
      "outputs": [
        {
          "output_type": "execute_result",
          "data": {
            "text/plain": [
              "RandomForestClassifier(n_estimators=20, random_state=1502)"
            ],
            "text/html": [
              "<style>#sk-container-id-3 {color: black;background-color: white;}#sk-container-id-3 pre{padding: 0;}#sk-container-id-3 div.sk-toggleable {background-color: white;}#sk-container-id-3 label.sk-toggleable__label {cursor: pointer;display: block;width: 100%;margin-bottom: 0;padding: 0.3em;box-sizing: border-box;text-align: center;}#sk-container-id-3 label.sk-toggleable__label-arrow:before {content: \"▸\";float: left;margin-right: 0.25em;color: #696969;}#sk-container-id-3 label.sk-toggleable__label-arrow:hover:before {color: black;}#sk-container-id-3 div.sk-estimator:hover label.sk-toggleable__label-arrow:before {color: black;}#sk-container-id-3 div.sk-toggleable__content {max-height: 0;max-width: 0;overflow: hidden;text-align: left;background-color: #f0f8ff;}#sk-container-id-3 div.sk-toggleable__content pre {margin: 0.2em;color: black;border-radius: 0.25em;background-color: #f0f8ff;}#sk-container-id-3 input.sk-toggleable__control:checked~div.sk-toggleable__content {max-height: 200px;max-width: 100%;overflow: auto;}#sk-container-id-3 input.sk-toggleable__control:checked~label.sk-toggleable__label-arrow:before {content: \"▾\";}#sk-container-id-3 div.sk-estimator input.sk-toggleable__control:checked~label.sk-toggleable__label {background-color: #d4ebff;}#sk-container-id-3 div.sk-label input.sk-toggleable__control:checked~label.sk-toggleable__label {background-color: #d4ebff;}#sk-container-id-3 input.sk-hidden--visually {border: 0;clip: rect(1px 1px 1px 1px);clip: rect(1px, 1px, 1px, 1px);height: 1px;margin: -1px;overflow: hidden;padding: 0;position: absolute;width: 1px;}#sk-container-id-3 div.sk-estimator {font-family: monospace;background-color: #f0f8ff;border: 1px dotted black;border-radius: 0.25em;box-sizing: border-box;margin-bottom: 0.5em;}#sk-container-id-3 div.sk-estimator:hover {background-color: #d4ebff;}#sk-container-id-3 div.sk-parallel-item::after {content: \"\";width: 100%;border-bottom: 1px solid gray;flex-grow: 1;}#sk-container-id-3 div.sk-label:hover label.sk-toggleable__label {background-color: #d4ebff;}#sk-container-id-3 div.sk-serial::before {content: \"\";position: absolute;border-left: 1px solid gray;box-sizing: border-box;top: 0;bottom: 0;left: 50%;z-index: 0;}#sk-container-id-3 div.sk-serial {display: flex;flex-direction: column;align-items: center;background-color: white;padding-right: 0.2em;padding-left: 0.2em;position: relative;}#sk-container-id-3 div.sk-item {position: relative;z-index: 1;}#sk-container-id-3 div.sk-parallel {display: flex;align-items: stretch;justify-content: center;background-color: white;position: relative;}#sk-container-id-3 div.sk-item::before, #sk-container-id-3 div.sk-parallel-item::before {content: \"\";position: absolute;border-left: 1px solid gray;box-sizing: border-box;top: 0;bottom: 0;left: 50%;z-index: -1;}#sk-container-id-3 div.sk-parallel-item {display: flex;flex-direction: column;z-index: 1;position: relative;background-color: white;}#sk-container-id-3 div.sk-parallel-item:first-child::after {align-self: flex-end;width: 50%;}#sk-container-id-3 div.sk-parallel-item:last-child::after {align-self: flex-start;width: 50%;}#sk-container-id-3 div.sk-parallel-item:only-child::after {width: 0;}#sk-container-id-3 div.sk-dashed-wrapped {border: 1px dashed gray;margin: 0 0.4em 0.5em 0.4em;box-sizing: border-box;padding-bottom: 0.4em;background-color: white;}#sk-container-id-3 div.sk-label label {font-family: monospace;font-weight: bold;display: inline-block;line-height: 1.2em;}#sk-container-id-3 div.sk-label-container {text-align: center;}#sk-container-id-3 div.sk-container {/* jupyter's `normalize.less` sets `[hidden] { display: none; }` but bootstrap.min.css set `[hidden] { display: none !important; }` so we also need the `!important` here to be able to override the default hidden behavior on the sphinx rendered scikit-learn.org. See: https://github.com/scikit-learn/scikit-learn/issues/21755 */display: inline-block !important;position: relative;}#sk-container-id-3 div.sk-text-repr-fallback {display: none;}</style><div id=\"sk-container-id-3\" class=\"sk-top-container\"><div class=\"sk-text-repr-fallback\"><pre>RandomForestClassifier(n_estimators=20, random_state=1502)</pre><b>In a Jupyter environment, please rerun this cell to show the HTML representation or trust the notebook. <br />On GitHub, the HTML representation is unable to render, please try loading this page with nbviewer.org.</b></div><div class=\"sk-container\" hidden><div class=\"sk-item\"><div class=\"sk-estimator sk-toggleable\"><input class=\"sk-toggleable__control sk-hidden--visually\" id=\"sk-estimator-id-3\" type=\"checkbox\" checked><label for=\"sk-estimator-id-3\" class=\"sk-toggleable__label sk-toggleable__label-arrow\">RandomForestClassifier</label><div class=\"sk-toggleable__content\"><pre>RandomForestClassifier(n_estimators=20, random_state=1502)</pre></div></div></div></div></div>"
            ]
          },
          "metadata": {},
          "execution_count": 34
        }
      ]
    },
    {
      "cell_type": "code",
      "source": [
        "explainer = shap.TreeExplainer(model)"
      ],
      "metadata": {
        "id": "R73xJO-ttT40"
      },
      "execution_count": null,
      "outputs": []
    },
    {
      "cell_type": "code",
      "source": [
        "#sample = selected_values.sample(25)\n",
        "# Get desired sample size\n",
        "n_samples = 25  # Replace with your desired number of samples\n",
        "# Calculate row indices for sampling\n",
        "row_indices = np.random.choice(selected_values.shape[0], size=n_samples, replace=False)  # Avoid duplicates\n",
        "# Select corresponding rows from the matrix\n",
        "sample= selected_values[row_indices, :]\n",
        "shap_values = explainer.shap_values(sample)\n",
        "shap.summary_plot(shap_values,sample)"
      ],
      "metadata": {
        "colab": {
          "base_uri": "https://localhost:8080/",
          "height": 977
        },
        "id": "V0ENkzsatYBt",
        "outputId": "193eaf0b-9702-4eb8-8fcc-4ec5d66624a2"
      },
      "execution_count": null,
      "outputs": [
        {
          "output_type": "display_data",
          "data": {
            "text/plain": [
              "<Figure size 800x950 with 1 Axes>"
            ],
            "image/png": "[encoded data removed]"
          },
          "metadata": {}
        }
      ]
    },
    {
      "cell_type": "code",
      "source": [
        "valid_columns[19]"
      ],
      "metadata": {
        "colab": {
          "base_uri": "https://localhost:8080/",
          "height": 35
        },
        "id": "gWlbSxrltmn2",
        "outputId": "67f57861-b983-463d-a4ee-bde0b4fb74d6"
      },
      "execution_count": null,
      "outputs": [
        {
          "output_type": "execute_result",
          "data": {
            "text/plain": [
              "'Age'"
            ],
            "application/vnd.google.colaboratory.intrinsic+json": {
              "type": "string"
            }
          },
          "metadata": {},
          "execution_count": 37
        }
      ]
    },
    {
      "cell_type": "code",
      "source": [
        "valid_columns[17]"
      ],
      "metadata": {
        "colab": {
          "base_uri": "https://localhost:8080/",
          "height": 35
        },
        "id": "nc3d2qzitt9V",
        "outputId": "f553b688-7149-4bd9-f7e8-0baa41c67f03"
      },
      "execution_count": null,
      "outputs": [
        {
          "output_type": "execute_result",
          "data": {
            "text/plain": [
              "'TEXTURE_GLSZM_NET_T2_LGZE'"
            ],
            "application/vnd.google.colaboratory.intrinsic+json": {
              "type": "string"
            }
          },
          "metadata": {},
          "execution_count": 38
        }
      ]
    },
    {
      "cell_type": "code",
      "source": [
        "valid_columns[7]"
      ],
      "metadata": {
        "colab": {
          "base_uri": "https://localhost:8080/",
          "height": 35
        },
        "id": "1LbTT6j4t4Bo",
        "outputId": "17a50572-ea76-4a69-b7b4-fe2cde78507d"
      },
      "execution_count": null,
      "outputs": [
        {
          "output_type": "execute_result",
          "data": {
            "text/plain": [
              "'HISTO_NET_T2_Bin9'"
            ],
            "application/vnd.google.colaboratory.intrinsic+json": {
              "type": "string"
            }
          },
          "metadata": {},
          "execution_count": 39
        }
      ]
    }
  ]
}